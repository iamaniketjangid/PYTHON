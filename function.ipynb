{
 "cells": [
  {
   "cell_type": "code",
   "execution_count": 3,
   "id": "7a204db5-b30c-4fe9-88c7-77f52bd810a6",
   "metadata": {},
   "outputs": [],
   "source": [
    "def func():\n",
    "    x=10\n",
    "    print(\"hey\",x)"
   ]
  },
  {
   "cell_type": "code",
   "execution_count": 5,
   "id": "fa975e1b-a5c4-4611-8c6e-e0a5b7d81adb",
   "metadata": {},
   "outputs": [
    {
     "name": "stdout",
     "output_type": "stream",
     "text": [
      "hey 10\n"
     ]
    }
   ],
   "source": [
    "func()"
   ]
  },
  {
   "cell_type": "code",
   "execution_count": 13,
   "id": "b71fcc9b-8038-46b1-b5ed-b5ee08f48d82",
   "metadata": {},
   "outputs": [],
   "source": [
    "def funct(y):\n",
    "    x=10\n",
    "    print(\"hey\",x+y)"
   ]
  },
  {
   "cell_type": "code",
   "execution_count": 19,
   "id": "3cca6043-6460-4d5b-80fe-6d06502795b6",
   "metadata": {},
   "outputs": [
    {
     "name": "stdout",
     "output_type": "stream",
     "text": [
      "hey 25\n"
     ]
    }
   ],
   "source": [
    "funct(15)"
   ]
  },
  {
   "cell_type": "code",
   "execution_count": 43,
   "id": "7413780a-0dbe-4f66-8cd7-5e134554ecfc",
   "metadata": {},
   "outputs": [],
   "source": [
    "a=100\n",
    "def functt(y):\n",
    "    # global variable\n",
    "    global a\n",
    "    a=a+y\n",
    "    print(\"h\",a)"
   ]
  },
  {
   "cell_type": "code",
   "execution_count": 45,
   "id": "096315be-775d-4a4c-983f-09662413c490",
   "metadata": {},
   "outputs": [
    {
     "name": "stdout",
     "output_type": "stream",
     "text": [
      "100\n",
      "h 115\n",
      "115\n"
     ]
    }
   ],
   "source": [
    "print(a)\n",
    "functt(15)\n",
    "print(a)"
   ]
  },
  {
   "cell_type": "code",
   "execution_count": 47,
   "id": "e1a8c3ac-99b3-4c3c-aca9-792ca2a3cc13",
   "metadata": {},
   "outputs": [],
   "source": [
    "# loac>global-> local\n"
   ]
  },
  {
   "cell_type": "code",
   "execution_count": 49,
   "id": "802d6465-f8b1-421d-8c1b-9d39c2ee43ed",
   "metadata": {},
   "outputs": [],
   "source": [
    "#parameter -> bnaya tb\n",
    "def func(a):\n",
    "    print(a)"
   ]
  },
  {
   "cell_type": "code",
   "execution_count": 53,
   "id": "5784fb8e-dd15-42c8-b6a1-b92a1bc7eac4",
   "metadata": {},
   "outputs": [
    {
     "name": "stdout",
     "output_type": "stream",
     "text": [
      "10\n"
     ]
    }
   ],
   "source": [
    "#calling=> 10 is a rgument -> cl krte time jo value di usa khte ha argument\n",
    "func(10)\n"
   ]
  },
  {
   "cell_type": "code",
   "execution_count": 61,
   "id": "3bf93992-0d6f-4121-87c2-1ebb063a98b9",
   "metadata": {},
   "outputs": [
    {
     "name": "stdout",
     "output_type": "stream",
     "text": [
      "10 15\n"
     ]
    }
   ],
   "source": [
    "# parameter  /forma para / informal argument\n",
    "def func(a,b):\n",
    "    print(a,b)\n",
    "\n",
    "#a => requred argument\n",
    "#calling => 10 is a argument\n",
    "func(10,15)"
   ]
  },
  {
   "cell_type": "code",
   "execution_count": 71,
   "id": "08765767-5a8e-41f9-83d4-59d73a3aca51",
   "metadata": {},
   "outputs": [
    {
     "name": "stdout",
     "output_type": "stream",
     "text": [
      "a 15 b 10\n"
     ]
    }
   ],
   "source": [
    "# parameter  /formal parameter / informal argument\n",
    "def func(a,b):\n",
    "    print('a',a,'b',b)\n",
    "\n",
    "#a => requred argument -> the arguments passed to a function in correct positional order\n",
    "#calling => 10 is a argument\n",
    "func(b=10,a=15)"
   ]
  },
  {
   "cell_type": "code",
   "execution_count": 97,
   "id": "1a3076e0-2040-4a66-9361-6eb7687cc222",
   "metadata": {},
   "outputs": [
    {
     "name": "stdout",
     "output_type": "stream",
     "text": [
      "a 15 b 99\n"
     ]
    }
   ],
   "source": [
    "#default\n",
    "def func(a,b=35):\n",
    "    print(\"a\",a,\"b\",b)\n",
    "func(15,99)"
   ]
  },
  {
   "cell_type": "code",
   "execution_count": 113,
   "id": "c90dece8-8ee9-4dc6-ac8c-a7993b25e1c6",
   "metadata": {},
   "outputs": [
    {
     "name": "stdout",
     "output_type": "stream",
     "text": [
      "args (15, 999)\n",
      "args (12, 34)\n",
      "args ()\n",
      "args (1,)\n",
      "args (1, 2, 3, 4)\n"
     ]
    }
   ],
   "source": [
    "def func(*args):\n",
    "    print(\"args\",args)\n",
    "func(15,999)\n",
    "func(12,34)\n",
    "func()\n",
    "func(1)\n",
    "func(1,2,3,4)\n",
    "#output in tuple form"
   ]
  },
  {
   "cell_type": "code",
   "execution_count": 182,
   "id": "d207d0b3-c5da-4775-b248-5978bb031f03",
   "metadata": {},
   "outputs": [
    {
     "name": "stdout",
     "output_type": "stream",
     "text": [
      "kwargs {'a': 15, 'b': 999, 'c': 29}\n"
     ]
    }
   ],
   "source": [
    "def funct(**kwargs):\n",
    "    print(\"kwargs\",kwargs)\n",
    "funct(a=15,b=999,c=29)\n",
    "#output in dictionety form"
   ]
  },
  {
   "cell_type": "code",
   "execution_count": 258,
   "id": "bed35508-226d-4772-9d0a-c03a84744849",
   "metadata": {},
   "outputs": [],
   "source": [
    "#write a function which takes n is a parameter fabonaci series in n sequence\n",
    "def febo(n):\n",
    "    c=[]\n",
    "    a,b=0,1\n",
    "    for i in range(n):\n",
    "        c.append(a)\n",
    "        a,b=b,a+b\n",
    "    return c"
   ]
  },
  {
   "cell_type": "code",
   "execution_count": 260,
   "id": "688c8181-22f8-43ba-8330-c85256bf4532",
   "metadata": {},
   "outputs": [
    {
     "data": {
      "text/plain": [
       "[0, 1, 1, 2, 3, 5, 8, 13, 21, 34]"
      ]
     },
     "execution_count": 260,
     "metadata": {},
     "output_type": "execute_result"
    }
   ],
   "source": [
    "febo(10)"
   ]
  },
  {
   "cell_type": "code",
   "execution_count": 282,
   "id": "2bcc4440-c401-47e5-b6c7-09718e539a94",
   "metadata": {},
   "outputs": [],
   "source": [
    "def hcf(x,y):\n",
    "    if x>y:\n",
    "        min= y\n",
    "    else:\n",
    "        min = x\n",
    "    for i in range(1,min+1):\n",
    "        if((x%i==0) and (y%i==0)):\n",
    "            hcf=i\n",
    "    return hcf\n",
    "# num1=54\n",
    "# num2=1000\n",
    "\n",
    "#print(\"hcf is\",hcf(num1, num2))\n"
   ]
  },
  {
   "cell_type": "code",
   "execution_count": 288,
   "id": "dc7093ce-6f78-4afc-8122-998a558a0f40",
   "metadata": {},
   "outputs": [
    {
     "data": {
      "text/plain": [
       "1"
      ]
     },
     "execution_count": 288,
     "metadata": {},
     "output_type": "execute_result"
    }
   ],
   "source": [
    "hcf(10,1)"
   ]
  },
  {
   "cell_type": "code",
   "execution_count": 334,
   "id": "de2d947a-b548-4246-ae2e-599562031c6f",
   "metadata": {},
   "outputs": [
    {
     "name": "stdout",
     "output_type": "stream",
     "text": [
      "351"
     ]
    }
   ],
   "source": [
    "n=153\n",
    "sum=0\n",
    "\n",
    "while n>0:\n",
    "    rev=n%10\n",
    "    sum=sum+10*rev\n",
    "    n=n//10\n",
    "    print(rev,end=\"\")"
   ]
  },
  {
   "cell_type": "code",
   "execution_count": 350,
   "id": "fb7056ff-2938-459f-9f3b-87ec3ad3a33c",
   "metadata": {},
   "outputs": [
    {
     "name": "stdout",
     "output_type": "stream",
     "text": [
      "palindrome\n"
     ]
    }
   ],
   "source": [
    "n=121\n",
    "sum=0\n",
    "rem=0\n",
    "temp=n\n",
    "while n>0:\n",
    "    rem=n%10\n",
    "    sum=sum*10+rem\n",
    "    n=n//10\n",
    "if temp==sum:\n",
    "    print(\"palindrome\")\n",
    "else:\n",
    "    print(\"not\")"
   ]
  },
  {
   "cell_type": "code",
   "execution_count": 380,
   "id": "2083e7c1-50fa-4677-bddd-1f6a0bd8cde8",
   "metadata": {},
   "outputs": [],
   "source": [
    "def pel(n):\n",
    "    sum=0\n",
    "    rem=0\n",
    "    temp=n\n",
    "    while n>0:\n",
    "        rem=n%10\n",
    "        sum=sum*10+rem\n",
    "        n=n//10\n",
    "    result={\n",
    "        \"numbe\":temp,\n",
    "        \"palindrome\":temp==sum\n",
    "    }\n",
    "    return result"
   ]
  },
  {
   "cell_type": "code",
   "execution_count": 384,
   "id": "b63aacde-58dc-4449-89c1-926078e5fd77",
   "metadata": {},
   "outputs": [
    {
     "data": {
      "text/plain": [
       "{'numbe': 121, 'palindrome': True}"
      ]
     },
     "execution_count": 384,
     "metadata": {},
     "output_type": "execute_result"
    }
   ],
   "source": [
    "pel(121)"
   ]
  },
  {
   "cell_type": "code",
   "execution_count": null,
   "id": "3f5c095e-93bf-427b-96cb-3ce5281e6c0b",
   "metadata": {},
   "outputs": [],
   "source": []
  }
 ],
 "metadata": {
  "kernelspec": {
   "display_name": "Python 3 (ipykernel)",
   "language": "python",
   "name": "python3"
  },
  "language_info": {
   "codemirror_mode": {
    "name": "ipython",
    "version": 3
   },
   "file_extension": ".py",
   "mimetype": "text/x-python",
   "name": "python",
   "nbconvert_exporter": "python",
   "pygments_lexer": "ipython3",
   "version": "3.12.7"
  }
 },
 "nbformat": 4,
 "nbformat_minor": 5
}
