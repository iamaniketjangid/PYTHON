{
 "cells": [
  {
   "cell_type": "code",
   "execution_count": 38,
   "id": "ce05de49-cf25-4bb4-9236-c334a8675bc6",
   "metadata": {},
   "outputs": [
    {
     "name": "stdout",
     "output_type": "stream",
     "text": [
      "{10: 'tushar', 20: 'naina'}\n",
      "2\n",
      "dict_keys([10, 20])\n",
      "dict_values(['tushar', 'naina'])\n",
      "dict_items([(10, 'tushar'), (20, 'naina')])\n"
     ]
    }
   ],
   "source": [
    "#dictionery\n",
    "#key and value pair\n",
    "#key unique\n",
    "#value can be uniq or duplicate\n",
    "#it don't have a index\n",
    "#orderd\n",
    "# it is mutable in nature\n",
    "my_dict={10:\"tushar\",20:\"naina\"}\n",
    "print(my_dict)\n",
    "print(len(my_dict))\n",
    "print(my_dict.keys())\n",
    "print(my_dict.values())\n",
    "print(my_dict.items())"
   ]
  },
  {
   "cell_type": "code",
   "execution_count": 39,
   "id": "95f23d08-22a8-4b16-a6dd-b2dc162bbb76",
   "metadata": {},
   "outputs": [
    {
     "data": {
      "text/plain": [
       "'tushar'"
      ]
     },
     "execution_count": 39,
     "metadata": {},
     "output_type": "execute_result"
    }
   ],
   "source": [
    "my_dict[10]"
   ]
  },
  {
   "cell_type": "code",
   "execution_count": 40,
   "id": "70dcd778-0326-477f-a4a2-b2f85d3a5e32",
   "metadata": {},
   "outputs": [
    {
     "name": "stdout",
     "output_type": "stream",
     "text": [
      "{10: 'aniket', 20: 'naina'}\n"
     ]
    }
   ],
   "source": [
    "my_dict[10]=\"aniket\" # update #list me isa index mante\n",
    "print(my_dict)"
   ]
  },
  {
   "cell_type": "code",
   "execution_count": 41,
   "id": "59e1e8b6-1142-423d-b12c-d9a6660f75bc",
   "metadata": {},
   "outputs": [
    {
     "name": "stdout",
     "output_type": "stream",
     "text": [
      "{10: 'aniket', 20: 'naina', 40: 'ajay'}\n"
     ]
    }
   ],
   "source": [
    "my_dict[40]=\"ajay\"\n",
    "print(my_dict)\n"
   ]
  },
  {
   "cell_type": "code",
   "execution_count": 42,
   "id": "a15c6944-c54c-4bfb-b733-d44cf604a3b0",
   "metadata": {},
   "outputs": [
    {
     "name": "stdout",
     "output_type": "stream",
     "text": [
      "{20: 'naina', 40: 'ajay'}\n"
     ]
    }
   ],
   "source": [
    "my_dict.pop(10) #delete the key and value\n",
    "\n",
    "print(my_dict)"
   ]
  },
  {
   "cell_type": "code",
   "execution_count": 43,
   "id": "82ea8174-f6e6-4123-b90d-8785769662ad",
   "metadata": {},
   "outputs": [
    {
     "name": "stdout",
     "output_type": "stream",
     "text": [
      "{40: 'ajay'} naina\n"
     ]
    }
   ],
   "source": [
    "x=my_dict.pop(20) #delete the key and value\n",
    "\n",
    "print(my_dict,x)"
   ]
  },
  {
   "cell_type": "code",
   "execution_count": 44,
   "id": "22ccc2e4-e652-44a2-bc83-d0cf8a39d75c",
   "metadata": {},
   "outputs": [
    {
     "name": "stdout",
     "output_type": "stream",
     "text": [
      "{10: 'tushar'}\n"
     ]
    }
   ],
   "source": [
    "my_dict={10:\"tushar\",20:\"naina\"}\n",
    "del my_dict[20]\n",
    "print(my_dict)"
   ]
  },
  {
   "cell_type": "code",
   "execution_count": 51,
   "id": "16537b38-ddb0-4bb2-b1a8-85418947d6ce",
   "metadata": {},
   "outputs": [
    {
     "name": "stdout",
     "output_type": "stream",
     "text": [
      "{10: 'tushar', 20: 'naina', 12: 'abc'}\n"
     ]
    }
   ],
   "source": [
    "my_dict={10:\"tushar\",20:\"naina\"}\n",
    "my_dict.update({12:\"abc\"})\n",
    "print(my_dict)"
   ]
  },
  {
   "cell_type": "code",
   "execution_count": 57,
   "id": "94d0b022-dce8-41ab-aee7-1a715df071a8",
   "metadata": {},
   "outputs": [
    {
     "name": "stdout",
     "output_type": "stream",
     "text": [
      "10\n",
      "tushar\n",
      "20\n",
      "naina\n"
     ]
    }
   ],
   "source": [
    "my_dict={10:\"tushar\",20:\"naina\"}\n",
    "for key in my_dict:\n",
    "    print(key)\n",
    "    print(my_dict[key])"
   ]
  },
  {
   "cell_type": "code",
   "execution_count": 61,
   "id": "df92ac78-cef9-4e84-8e40-a512a8339b7a",
   "metadata": {},
   "outputs": [
    {
     "name": "stdout",
     "output_type": "stream",
     "text": [
      "{'x': 3}\n"
     ]
    }
   ],
   "source": [
    "my_dict={\"x\":1}\n",
    "my_dict['x']=my_dict['x']+2\n",
    "print(my_dict)"
   ]
  },
  {
   "cell_type": "code",
   "execution_count": 70,
   "id": "bcafc7da-4a1c-4a48-b4b6-56fd69dca541",
   "metadata": {},
   "outputs": [
    {
     "name": "stdout",
     "output_type": "stream",
     "text": [
      "{'total': 8}\n"
     ]
    }
   ],
   "source": [
    "#loop => 10,18\n",
    "my_dict2={\"total\":0}\n",
    "for i in range(10,18):\n",
    "    my_dict2['total']=my_dict2['total']+1\n",
    "print(my_dict2)"
   ]
  },
  {
   "cell_type": "code",
   "execution_count": 79,
   "id": "8f4be7fc-7f9b-4d0c-b642-02a81cdd1bfc",
   "metadata": {},
   "outputs": [
    {
     "name": "stdout",
     "output_type": "stream",
     "text": [
      "7\n"
     ]
    }
   ],
   "source": [
    "count=0\n",
    "for x in \"heyuser\":\n",
    "    count=count+1\n",
    "print(count)"
   ]
  },
  {
   "cell_type": "code",
   "execution_count": 77,
   "id": "18557dd7-3858-48e4-a346-15668c4f82d1",
   "metadata": {},
   "outputs": [
    {
     "ename": "SyntaxError",
     "evalue": "invalid syntax (4179131524.py, line 2)",
     "output_type": "error",
     "traceback": [
      "\u001b[1;36m  Cell \u001b[1;32mIn[77], line 2\u001b[1;36m\u001b[0m\n\u001b[1;33m    for x in range \"heyuser\":\u001b[0m\n\u001b[1;37m                   ^\u001b[0m\n\u001b[1;31mSyntaxError\u001b[0m\u001b[1;31m:\u001b[0m invalid syntax\n"
     ]
    }
   ],
   "source": [
    "my_dict3={\"total\":0}\n",
    "for x in range \"heyuser\":\n",
    "    my_dict3[\"total\"]=my_dict3[\"total\"]+1\n",
    "    print(my_dict3)\n"
   ]
  },
  {
   "cell_type": "code",
   "execution_count": 81,
   "id": "a5deb7e5-0131-4ef0-9fb9-764147975e4e",
   "metadata": {},
   "outputs": [
    {
     "name": "stdout",
     "output_type": "stream",
     "text": [
      "{'total': 0, 'h': 1, 'e': 1, 'y': 1, 'u': 1, 's': 1, 'r': 1}\n"
     ]
    }
   ],
   "source": [
    "mydict4={\"total\":0}\n",
    "for x in \"heeyuser\":# dict has uniq value not print diplicate value\n",
    "    mydict4[x]=1\n",
    "print(mydict4)"
   ]
  },
  {
   "cell_type": "code",
   "execution_count": 84,
   "id": "29cdb211-d52b-423f-87c8-fbd875e2f854",
   "metadata": {},
   "outputs": [
    {
     "name": "stdout",
     "output_type": "stream",
     "text": [
      "{'total': 6}\n"
     ]
    }
   ],
   "source": [
    "mydict4={\"total\":5}\n",
    "if \"total\" not in mydict4:\n",
    "    mydict4['total']=1\n",
    "else:\n",
    "    mydict4[\"total\"]=mydict4['total']+1\n",
    "print(mydict4)"
   ]
  },
  {
   "cell_type": "code",
   "execution_count": 85,
   "id": "0fbad0d0-df36-4a99-9901-4fc7c3b6568c",
   "metadata": {},
   "outputs": [
    {
     "name": "stdout",
     "output_type": "stream",
     "text": [
      "{'total': 7}\n"
     ]
    }
   ],
   "source": [
    "string=\"heyuser\"\n",
    "string={}\n",
    "if char"
   ]
  },
  {
   "cell_type": "code",
   "execution_count": 94,
   "id": "4d5f03e1-3332-4358-af95-9728cce11bec",
   "metadata": {},
   "outputs": [
    {
     "data": {
      "text/plain": [
       "{'yes': 3, 'no': 47}"
      ]
     },
     "execution_count": 94,
     "metadata": {},
     "output_type": "execute_result"
    }
   ],
   "source": [
    "dict={'yes':0,'no':0}\n",
    "for i in range(1,51):\n",
    "    if i%2==0 and i%7==0:\n",
    "       dict['yes']=dict['yes']+1\n",
    "    else:\n",
    "        dict['no']=dict['no']+1\n",
    "dict\n",
    "        \n",
    "\n",
    "\n",
    "    "
   ]
  },
  {
   "cell_type": "code",
   "execution_count": 114,
   "id": "425efba0-9623-4304-9a5e-e2b846f90110",
   "metadata": {},
   "outputs": [
    {
     "data": {
      "text/plain": [
       "{'vowels': 10}"
      ]
     },
     "execution_count": 114,
     "metadata": {},
     "output_type": "execute_result"
    }
   ],
   "source": [
    "string=\"hey hello tushar aei\"\n",
    "\n",
    "dict={'vowels':0}\n",
    "for i in 'aeiouAEIOU':\n",
    "         dict['vowels']=dict['vowels']+1\n",
    "dict"
   ]
  },
  {
   "cell_type": "code",
   "execution_count": 120,
   "id": "92380957-df7c-4d45-921a-383c568b18e6",
   "metadata": {},
   "outputs": [
    {
     "data": {
      "text/plain": [
       "{'vowels': 10}"
      ]
     },
     "execution_count": 120,
     "metadata": {},
     "output_type": "execute_result"
    }
   ],
   "source": [
    "string=\"hey hello tushar aei\"\n",
    "\n",
    "dict={'vowels':0}\n",
    "for i in 'aeiouAEIOU':\n",
    "         dict['vowels']=dict['vowels']+1\n",
    "dict"
   ]
  },
  {
   "cell_type": "code",
   "execution_count": 122,
   "id": "86ba5758-f695-48da-81d6-061894a8923a",
   "metadata": {},
   "outputs": [
    {
     "data": {
      "text/plain": [
       "['h', 'y h', 'llo']"
      ]
     },
     "execution_count": 122,
     "metadata": {},
     "output_type": "execute_result"
    }
   ],
   "source": [
    "\"hey hello\".split('e')"
   ]
  },
  {
   "cell_type": "code",
   "execution_count": 123,
   "id": "f107c2a5-ee35-420b-9fe7-fa8c76562e6a",
   "metadata": {},
   "outputs": [
    {
     "ename": "AttributeError",
     "evalue": "'list' object has no attribute 'split'",
     "output_type": "error",
     "traceback": [
      "\u001b[1;31m---------------------------------------------------------------------------\u001b[0m",
      "\u001b[1;31mAttributeError\u001b[0m                            Traceback (most recent call last)",
      "Cell \u001b[1;32mIn[123], line 1\u001b[0m\n\u001b[1;32m----> 1\u001b[0m [\u001b[38;5;241m10\u001b[39m,\u001b[38;5;241m20\u001b[39m,\u001b[38;5;241m30\u001b[39m]\u001b[38;5;241m.\u001b[39msplit(\u001b[38;5;241m20\u001b[39m)\n",
      "\u001b[1;31mAttributeError\u001b[0m: 'list' object has no attribute 'split'"
     ]
    }
   ],
   "source": [
    "[10,20,30].split(20)"
   ]
  },
  {
   "cell_type": "code",
   "execution_count": 137,
   "id": "3a9f97e2-20e4-415e-8ece-15db377f73af",
   "metadata": {},
   "outputs": [
    {
     "name": "stdout",
     "output_type": "stream",
     "text": [
      "{'yes': 8}\n"
     ]
    }
   ],
   "source": [
    "x=\"hey  hey  hey hey hello hello\".split(\" \")\n",
    "dict={'yes':0}\n",
    "for i in x:\n",
    "    dict['yes']=dict['yes']+1\n",
    "print(dict)"
   ]
  },
  {
   "cell_type": "code",
   "execution_count": 138,
   "id": "77ed1042-88a3-4cf2-b961-80add1dd2db8",
   "metadata": {},
   "outputs": [
    {
     "name": "stdout",
     "output_type": "stream",
     "text": [
      "{10, 20, 30, 607606}\n",
      "{455, 10, 20, 607606, 30}\n",
      "{455, 10, 607606, 30}\n"
     ]
    }
   ],
   "source": [
    "#set \n",
    "# it is a collection of element\n",
    "#unique\n",
    "#unorderd\n",
    "#no index\n",
    "#mutable but set element are immutable\n",
    "\n",
    "myset={10,20,30,10,10,20,607606}\n",
    "print(myset)\n",
    "myset.add(455)\n",
    "print(myset)\n",
    "myset.remove(20)\n",
    "print(myset)\n",
    "myset.discard(10)\n",
    "#print(myset)"
   ]
  },
  {
   "cell_type": "code",
   "execution_count": null,
   "id": "5b9c870d-80e4-4707-8c96-0b91fd3aa18b",
   "metadata": {},
   "outputs": [],
   "source": []
  }
 ],
 "metadata": {
  "kernelspec": {
   "display_name": "Python 3 (ipykernel)",
   "language": "python",
   "name": "python3"
  },
  "language_info": {
   "codemirror_mode": {
    "name": "ipython",
    "version": 3
   },
   "file_extension": ".py",
   "mimetype": "text/x-python",
   "name": "python",
   "nbconvert_exporter": "python",
   "pygments_lexer": "ipython3",
   "version": "3.12.4"
  }
 },
 "nbformat": 4,
 "nbformat_minor": 5
}
