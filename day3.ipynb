{
 "cells": [
  {
   "cell_type": "code",
   "execution_count": null,
   "id": "99690769-b6b5-47c8-b827-c0bde540654e",
   "metadata": {},
   "outputs": [],
   "source": []
  },
  {
   "cell_type": "code",
   "execution_count": null,
   "id": "4982452e-d178-4799-ba11-f10c8c20ae9f",
   "metadata": {},
   "outputs": [],
   "source": []
  },
  {
   "cell_type": "code",
   "execution_count": 21,
   "id": "aeee3cfd-d8a9-4819-888e-1b7963c6bcac",
   "metadata": {},
   "outputs": [
    {
     "name": "stdout",
     "output_type": "stream",
     "text": [
      "120\n"
     ]
    }
   ],
   "source": [
    "fact=1\n",
    "n=5\n",
    "for i in range(1,n+1):\n",
    "  fact=fact*i\n",
    "print(fact)\n"
   ]
  },
  {
   "cell_type": "code",
   "execution_count": null,
   "id": "e1b8da23-b995-4c4c-a663-445be4feb70e",
   "metadata": {},
   "outputs": [],
   "source": [
    "fact=145\n",
    "i=1\n",
    "while n>=i:\n",
    "    fact=fact%10\n",
    "    r=fact//10\n",
    "    fact\n",
    "    \n",
    "        "
   ]
  },
  {
   "cell_type": "code",
   "execution_count": 4,
   "id": "35ae9bf7-37b8-4fcc-bea4-8596df02e553",
   "metadata": {},
   "outputs": [
    {
     "name": "stdout",
     "output_type": "stream",
     "text": [
      "27\n",
      "152\n",
      "153\n",
      "armstrong\n"
     ]
    }
   ],
   "source": [
    "num=153\n",
    "sum=0\n",
    "temp=num\n",
    "while temp>0:\n",
    "    digit=temp%10\n",
    "    sum=sum+digit**3\n",
    "    temp=temp//10\n",
    "    print(sum)\n",
    "if num==sum:\n",
    "    print(\"armstrong\")\n",
    "else:\n",
    "    print(\"not\")"
   ]
  },
  {
   "cell_type": "code",
   "execution_count": 10,
   "id": "d9a75ac8-2b3e-40f8-bffe-661c80b042f0",
   "metadata": {},
   "outputs": [
    {
     "name": "stdout",
     "output_type": "stream",
     "text": [
      "hey 1\n",
      "helo 13\n",
      "helo 14\n",
      "hey 2\n",
      "helo 13\n",
      "helo 14\n",
      "hey 3\n",
      "helo 13\n",
      "helo 14\n"
     ]
    }
   ],
   "source": [
    "#nested loop\n",
    "for i in range(1,4):\n",
    "    print(\"hey\",i)\n",
    "\n",
    "    for j in range(13,15):\n",
    "        print(\"helo\",j)"
   ]
  },
  {
   "cell_type": "code",
   "execution_count": 13,
   "id": "c08da229-624d-4c62-bb7f-42ed6cdfc865",
   "metadata": {},
   "outputs": [
    {
     "name": "stdout",
     "output_type": "stream",
     "text": [
      "0\n",
      "2\n",
      "4\n",
      "6\n",
      "8\n",
      "10\n"
     ]
    }
   ],
   "source": [
    "for i in range(0,11,2):\n",
    "    print(i)"
   ]
  },
  {
   "cell_type": "code",
   "execution_count": 18,
   "id": "06b99773-e96e-460d-ac41-e9146cdd7495",
   "metadata": {},
   "outputs": [
    {
     "name": "stdout",
     "output_type": "stream",
     "text": [
      "2\n",
      "4\n",
      "6\n",
      "8\n",
      "10\n",
      "12\n",
      "14\n",
      "16\n",
      "18\n",
      "20\n",
      "3\n",
      "6\n",
      "9\n",
      "12\n",
      "15\n",
      "18\n",
      "21\n",
      "24\n",
      "27\n",
      "30\n",
      "4\n",
      "8\n",
      "12\n",
      "16\n",
      "20\n",
      "24\n",
      "28\n",
      "32\n",
      "36\n",
      "40\n",
      "5\n",
      "10\n",
      "15\n",
      "20\n",
      "25\n",
      "30\n",
      "35\n",
      "40\n",
      "45\n",
      "50\n"
     ]
    }
   ],
   "source": [
    "for i in range(2,6):\n",
    "    for j in range(1,11):\n",
    "        print(i*j)"
   ]
  },
  {
   "cell_type": "code",
   "execution_count": 25,
   "id": "6195db32-3512-493a-b37a-1e635a489806",
   "metadata": {},
   "outputs": [
    {
     "name": "stdout",
     "output_type": "stream",
     "text": [
      "120\n"
     ]
    }
   ],
   "source": [
    "fact=1\n",
    "\n",
    "for i in range(1,6):\n",
    "  fact=fact*i\n",
    "print(fact)"
   ]
  },
  {
   "cell_type": "code",
   "execution_count": 29,
   "id": "6ab8f66d-9423-4234-aba0-fbf21ab227e2",
   "metadata": {},
   "outputs": [
    {
     "name": "stdout",
     "output_type": "stream",
     "text": [
      "factor 1\n",
      "factor 2\n",
      "factor 2\n",
      "factor 3\n",
      "factor 3\n",
      "factor 4\n",
      "factor 4\n",
      "factor 4\n",
      "factor 5\n",
      "factor 5\n",
      "factor 6\n",
      "factor 6\n",
      "factor 6\n",
      "factor 6\n",
      "factor 7\n",
      "factor 7\n",
      "factor 8\n",
      "factor 8\n",
      "factor 8\n",
      "factor 8\n",
      "factor 9\n",
      "factor 9\n",
      "factor 9\n",
      "factor 10\n",
      "factor 10\n",
      "factor 10\n",
      "factor 10\n"
     ]
    }
   ],
   "source": [
    "\n",
    "for i in range(1,11):\n",
    "    for j in range(1,i+1):\n",
    "        if (i%j==0):\n",
    "            print(\"factor\",i)\n"
   ]
  },
  {
   "cell_type": "code",
   "execution_count": 43,
   "id": "20eab88f-2570-4278-bfd2-bbf75b591202",
   "metadata": {},
   "outputs": [
    {
     "name": "stdout",
     "output_type": "stream",
     "text": [
      "1\n",
      "9\n",
      "36\n",
      "100\n",
      "225\n",
      "441\n",
      "784\n",
      "1296\n",
      "2025\n",
      "2025\n",
      "2026\n",
      "2034\n",
      "2061\n",
      "2125\n",
      "2250\n",
      "2466\n",
      "2809\n",
      "3321\n",
      "4050\n",
      "4050\n",
      "4051\n",
      "4059\n",
      "4086\n",
      "4150\n",
      "4275\n",
      "4491\n",
      "4834\n",
      "5346\n",
      "6075\n",
      "6075\n",
      "6076\n",
      "6084\n",
      "6111\n",
      "6175\n",
      "6300\n",
      "6516\n",
      "6859\n",
      "7371\n",
      "8100\n",
      "8100\n",
      "8101\n",
      "8109\n",
      "8136\n",
      "8200\n",
      "8325\n",
      "8541\n",
      "8884\n",
      "9396\n",
      "10125\n",
      "10125\n",
      "10126\n",
      "10134\n",
      "10161\n",
      "10225\n",
      "10350\n",
      "10566\n",
      "10909\n",
      "11421\n",
      "12150\n",
      "12150\n",
      "12151\n",
      "12159\n",
      "12186\n",
      "12250\n",
      "12375\n",
      "12591\n",
      "12934\n",
      "13446\n",
      "14175\n",
      "14175\n",
      "14176\n",
      "14184\n",
      "14211\n",
      "14275\n",
      "14400\n",
      "14616\n",
      "14959\n",
      "15471\n",
      "16200\n",
      "16200\n",
      "16201\n",
      "16209\n",
      "16236\n",
      "16300\n",
      "16425\n",
      "16641\n",
      "16984\n",
      "17496\n",
      "18225\n",
      "18225\n",
      "18226\n",
      "18234\n",
      "18261\n",
      "18325\n",
      "18450\n",
      "18666\n",
      "19009\n",
      "19521\n",
      "20250\n"
     ]
    }
   ],
   "source": [
    "sum=0\n",
    "for i in range(1,100):\n",
    "    digit=i%10\n",
    "    sum=sum+digit**3\n",
    "    i=i//10\n",
    "    print(sum)\n"
   ]
  },
  {
   "cell_type": "code",
   "execution_count": 52,
   "id": "1f2a5b23-1e1a-4e6d-a0c6-666302477bda",
   "metadata": {},
   "outputs": [
    {
     "name": "stdout",
     "output_type": "stream",
     "text": [
      "****\n",
      "*  *\n",
      "*  *\n",
      "****\n"
     ]
    }
   ],
   "source": [
    "#pattern\n",
    "for i in range(1,5):\n",
    "    for j in range(1,5):\n",
    "        if j==1 or j==4 or i==1 or i==4 : \n",
    "            print(\"*\",end=\"\")\n",
    "        else:\n",
    "            print(' ',end=\"\")\n",
    "    print()"
   ]
  },
  {
   "cell_type": "code",
   "execution_count": null,
   "id": "343117e4-6ed3-4860-9bc6-8ef338d28528",
   "metadata": {},
   "outputs": [],
   "source": []
  }
 ],
 "metadata": {
  "kernelspec": {
   "display_name": "Python 3 (ipykernel)",
   "language": "python",
   "name": "python3"
  },
  "language_info": {
   "codemirror_mode": {
    "name": "ipython",
    "version": 3
   },
   "file_extension": ".py",
   "mimetype": "text/x-python",
   "name": "python",
   "nbconvert_exporter": "python",
   "pygments_lexer": "ipython3",
   "version": "3.12.4"
  }
 },
 "nbformat": 4,
 "nbformat_minor": 5
}
