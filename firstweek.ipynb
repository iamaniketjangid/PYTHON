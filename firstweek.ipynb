{
 "cells": [
  {
   "cell_type": "markdown",
   "id": "a4b0363e-cfa0-4e10-8e50-fbc6046edd14",
   "metadata": {},
   "source": [
    "# when multiplication of a number"
   ]
  },
  {
   "cell_type": "code",
   "execution_count": 1,
   "id": "1285d823-9655-42a9-a86b-c1da72957e60",
   "metadata": {},
   "outputs": [
    {
     "data": {
      "text/plain": [
       "[3, 4, 5, 6, 7]"
      ]
     },
     "execution_count": 1,
     "metadata": {},
     "output_type": "execute_result"
    }
   ],
   "source": [
    "ls=[3,4,5,6]\n",
    "ls.append(7)\n",
    "ls"
   ]
  },
  {
   "cell_type": "code",
   "execution_count": 2,
   "id": "eb87c8a7-fbea-4528-8728-81b6e6c8c866",
   "metadata": {},
   "outputs": [
    {
     "data": {
      "text/plain": [
       "[4, 5, 6, 7]"
      ]
     },
     "execution_count": 2,
     "metadata": {},
     "output_type": "execute_result"
    }
   ],
   "source": [
    "ls\n",
    "ls.remove(3)\n",
    "ls"
   ]
  },
  {
   "cell_type": "code",
   "execution_count": 3,
   "id": "78ddc961-f941-445e-9bc3-3571be3a6f02",
   "metadata": {},
   "outputs": [
    {
     "name": "stdout",
     "output_type": "stream",
     "text": [
      "4\n"
     ]
    }
   ],
   "source": [
    "tup=(1,5,3,4)\n",
    "print(len(tup))"
   ]
  },
  {
   "cell_type": "code",
   "execution_count": 4,
   "id": "f440bdb8-db6a-464f-8fe1-e5a75ebc0806",
   "metadata": {},
   "outputs": [
    {
     "name": "stdout",
     "output_type": "stream",
     "text": [
      "3\n"
     ]
    }
   ],
   "source": [
    "print(tup[2])"
   ]
  },
  {
   "cell_type": "code",
   "execution_count": 5,
   "id": "dd993585-4ed5-4b43-8e8f-fbab3f5dbc04",
   "metadata": {},
   "outputs": [
    {
     "data": {
      "text/plain": [
       "[4, 5, 6, 7]"
      ]
     },
     "execution_count": 5,
     "metadata": {},
     "output_type": "execute_result"
    }
   ],
   "source": [
    "ls.sort()\n",
    "ls"
   ]
  },
  {
   "cell_type": "code",
   "execution_count": 6,
   "id": "8431363a-2178-4462-a45b-ace8a861d0bd",
   "metadata": {},
   "outputs": [
    {
     "data": {
      "text/plain": [
       "[7, 6, 5, 4]"
      ]
     },
     "execution_count": 6,
     "metadata": {},
     "output_type": "execute_result"
    }
   ],
   "source": [
    "ls.reverse()\n",
    "ls"
   ]
  },
  {
   "cell_type": "code",
   "execution_count": 7,
   "id": "6cbdd8f3-89f8-4f9b-aa83-3aa37149504b",
   "metadata": {},
   "outputs": [
    {
     "data": {
      "text/plain": [
       "[7, 6, 5, 4]"
      ]
     },
     "execution_count": 7,
     "metadata": {},
     "output_type": "execute_result"
    }
   ],
   "source": [
    "ls.sort(reverse=True)\n",
    "ls"
   ]
  },
  {
   "cell_type": "code",
   "execution_count": 8,
   "id": "3abcbcb4-2923-4073-bab7-b10d83034398",
   "metadata": {},
   "outputs": [
    {
     "name": "stdout",
     "output_type": "stream",
     "text": [
      "True\n"
     ]
    }
   ],
   "source": [
    "print(5 in tup)"
   ]
  },
  {
   "cell_type": "code",
   "execution_count": 9,
   "id": "2851e087-166d-449d-a5e0-52e2cc43cb88",
   "metadata": {},
   "outputs": [
    {
     "data": {
      "text/plain": [
       "[1, 2, 4, 8, 8, 6]"
      ]
     },
     "execution_count": 9,
     "metadata": {},
     "output_type": "execute_result"
    }
   ],
   "source": [
    "ls1 = [1,2,4,4,8,8,6]\n",
    "ls1.remove(4)\n",
    "ls1"
   ]
  },
  {
   "cell_type": "code",
   "execution_count": 10,
   "id": "7a6f7fe9-d130-4b62-9d0e-90400f23bc3f",
   "metadata": {},
   "outputs": [
    {
     "name": "stdout",
     "output_type": "stream",
     "text": [
      "[1, 2, 3, 4, 5, 6]\n"
     ]
    }
   ],
   "source": [
    "tup1 = [1,2,3]\n",
    "tup2 = [4,5,6]\n",
    "print(tup1+tup2)"
   ]
  },
  {
   "cell_type": "code",
   "execution_count": 11,
   "id": "9bbb2611-c86b-4d67-a66d-02e2a2bd9ba2",
   "metadata": {},
   "outputs": [
    {
     "name": "stdout",
     "output_type": "stream",
     "text": [
      "\n"
     ]
    },
    {
     "data": {
      "text/plain": [
       "3"
      ]
     },
     "execution_count": 11,
     "metadata": {},
     "output_type": "execute_result"
    }
   ],
   "source": [
    "print()\n",
    "ls1.index(8)"
   ]
  },
  {
   "cell_type": "code",
   "execution_count": 12,
   "id": "0a309d43-dc83-4137-8a80-5dba5089866f",
   "metadata": {},
   "outputs": [
    {
     "name": "stdout",
     "output_type": "stream",
     "text": [
      "<class 'tuple'>\n",
      "<class 'str'>\n"
     ]
    }
   ],
   "source": [
    "tup4=(\"aniket\",)\n",
    "tup5=(\"aniket\")\n",
    "print(type(tup4))\n",
    "print(type(tup5))"
   ]
  },
  {
   "cell_type": "code",
   "execution_count": 13,
   "id": "01dd290a-2a85-4b90-bd16-3668f5c05cb1",
   "metadata": {},
   "outputs": [
    {
     "name": "stdout",
     "output_type": "stream",
     "text": [
      "True\n"
     ]
    }
   ],
   "source": [
    "ls\n",
    "print(5 in ls)"
   ]
  },
  {
   "cell_type": "markdown",
   "id": "f9c3a884-fc08-4d9e-b851-59dcb872259d",
   "metadata": {},
   "source": [
    "<!-- # Q: Can I use 'is in' as a single operator in Python?\n",
    "# A: No, 'is in' is not a single operator in Python. 'is' and 'in' are separate operators, but you can use them together in a single conditional expression.\n",
    "\n",
    "# Q: When should I use 'is' instead of '=='?\n",
    "# A: You should use 'is' when you want to check if two variables point to the exact same object, not just equal in value.\n",
    "\n",
    "# Q: Why is 'in' operator useful?\n",
    "# A: The 'in' operator is useful because it provides an easy, readable, and efficient way to check if a value exists within a sequence.\n",
    "\n",
    "# Q: What type of sequences can the 'in' operator be used with?\n",
    "# A: The 'in' operator can be used with lists, tuples, dictionaries, and strings.\n",
    "\n",
    "# Q: Can 'is' and 'in' be used in the same expression?\n",
    "# A: Yes, 'is' and 'in' can be used in the same expression, but they will accomplish different tasks within that expression.\n",
    "\n",
    "# We hope this blog post has helped you understand the 'is in' operator in Python. If you're interested in diving deeper, you can always refer to the official Python documentation for ‘is’ and ‘in’ operators. Happy coding, and remember, practice makes perfect! Keep exploring, keep coding, and keep learning! -->"
   ]
  },
  {
   "cell_type": "markdown",
   "id": "7d588916-4507-4fb3-97d2-b90ea37dbe23",
   "metadata": {},
   "source": [
    "# Q: Can I use 'is in' as a single operator in Python?\n",
    "# A: No, 'is in' is not a single operator in Python. 'is' and 'in' are separate operators, but you can use them together in a single conditional expression.\n",
    "\n",
    "# Q: When should I use 'is' instead of '=='?\n",
    "# A: You should use 'is' when you want to check if two variables point to the exact same object, not just equal in value.\n",
    "\n",
    "# Q: Why is 'in' operator useful?\n",
    "# A: The 'in' operator is useful because it provides an easy, readable, and efficient way to check if a value exists within a sequence.\n",
    "\n",
    "# Q: What type of sequences can the 'in' operator be used with?\n",
    "# A: The 'in' operator can be used with lists, tuples, dictionaries, and strings.\n",
    "\n",
    "# Q: Can 'is' and 'in' be used in the same expression?\n",
    "# A: Yes, 'is' and 'in' can be used in the same expression, but they will accomplish different tasks within that expression.\n",
    "\n",
    "# We hope this blog post has helped you understand the 'is in' operator in Python. If you're interested in diving deeper, you can always refer to the official Python documentation for ‘is’ and ‘in’ operators. Happy coding, and remember, practice makes perfect! Keep exploring, keep coding, and keep learning!"
   ]
  },
  {
   "cell_type": "markdown",
   "id": "509f4c0e-842c-4257-a0f3-5bb0c6067fc0",
   "metadata": {},
   "source": [
    "# How do you find the number of occurrences of a specific element in a list?\n"
   ]
  },
  {
   "cell_type": "code",
   "execution_count": 14,
   "id": "b2cecfa3-fac4-4272-b628-96184d5f8281",
   "metadata": {},
   "outputs": [
    {
     "name": "stdout",
     "output_type": "stream",
     "text": [
      "2\n"
     ]
    }
   ],
   "source": [
    "ls6 = [3,3,5,6,2,2,8,8,9]\n",
    "print(ls6.count(3))"
   ]
  },
  {
   "cell_type": "markdown",
   "id": "a5833108-3870-4232-b33d-2f472ee0e37e",
   "metadata": {},
   "source": [
    "# How can you slice a list to get the first three elements?\n"
   ]
  },
  {
   "cell_type": "code",
   "execution_count": 15,
   "id": "4995b5de-ff67-4b6b-902d-fd18e462053c",
   "metadata": {},
   "outputs": [
    {
     "data": {
      "text/plain": [
       "[3, 3, 5, 6, 2, 2, 8, 8, 9]"
      ]
     },
     "execution_count": 15,
     "metadata": {},
     "output_type": "execute_result"
    }
   ],
   "source": [
    "ls6"
   ]
  },
  {
   "cell_type": "code",
   "execution_count": 16,
   "id": "53332d8d-61eb-43ab-a509-dfa99c24f2ee",
   "metadata": {},
   "outputs": [
    {
     "name": "stdout",
     "output_type": "stream",
     "text": [
      "[3, 3, 5, 6]\n"
     ]
    }
   ],
   "source": [
    "print(ls6[0:4])"
   ]
  },
  {
   "cell_type": "markdown",
   "id": "61683779-96a8-4776-a4d8-b4056fe2859f",
   "metadata": {},
   "source": [
    "### What is the difference between the append and extend methods for a list?\n",
    "#### he \"append\" method adds a single element to the end of a list, while the \"extend\" method adds multiple elements from an iterable (like another list or a tuple) to the end of a list"
   ]
  },
  {
   "cell_type": "code",
   "execution_count": 17,
   "id": "acdff567-398e-49c1-9ae8-6fcc9187dba2",
   "metadata": {},
   "outputs": [
    {
     "data": {
      "text/plain": [
       "[7, 6, 5, 4]"
      ]
     },
     "execution_count": 17,
     "metadata": {},
     "output_type": "execute_result"
    }
   ],
   "source": [
    "ls"
   ]
  },
  {
   "cell_type": "code",
   "execution_count": 18,
   "id": "3ed5f5c4-dda8-4eee-ab8c-c9a0bb194a7d",
   "metadata": {},
   "outputs": [
    {
     "name": "stdout",
     "output_type": "stream",
     "text": [
      "[7, 6, 5, 4, 9, 7, 5]\n"
     ]
    }
   ],
   "source": [
    "ls.extend([9,7,5])\n",
    "print(ls)"
   ]
  },
  {
   "cell_type": "code",
   "execution_count": 19,
   "id": "f5010190-50a1-42bc-ac57-8e4df0f5d410",
   "metadata": {},
   "outputs": [
    {
     "name": "stdout",
     "output_type": "stream",
     "text": [
      "[7, 6, 5, 4, 9, 7, 5, 5]\n"
     ]
    }
   ],
   "source": [
    "ls.append(5)\n",
    "print(ls)"
   ]
  },
  {
   "cell_type": "markdown",
   "id": "c4837bfb-138d-4f39-8d20-c8ecf62dfecf",
   "metadata": {},
   "source": [
    "#### How can you create a list of tuples where each tuple contains two elements?"
   ]
  },
  {
   "cell_type": "code",
   "execution_count": 20,
   "id": "da320c71-3115-4007-948f-217c35fd12c0",
   "metadata": {},
   "outputs": [
    {
     "data": {
      "text/plain": [
       "[(1, 2), ('ani', 'ajay'), (6, 7)]"
      ]
     },
     "execution_count": 20,
     "metadata": {},
     "output_type": "execute_result"
    }
   ],
   "source": [
    "lst = [(1,2),('ani','ajay'),(6,7)]\n",
    "lst"
   ]
  },
  {
   "cell_type": "code",
   "execution_count": 21,
   "id": "aedaec84-f4b1-4e9f-b311-ee447789c16e",
   "metadata": {},
   "outputs": [
    {
     "data": {
      "text/plain": [
       "[(1, 2), ('ani', 'ajay'), (6, 7), 4]"
      ]
     },
     "execution_count": 21,
     "metadata": {},
     "output_type": "execute_result"
    }
   ],
   "source": [
    "lst.append(4)\n",
    "lst"
   ]
  },
  {
   "cell_type": "code",
   "execution_count": 22,
   "id": "204c735d-a09f-4ddb-b8b7-5e5541c59713",
   "metadata": {},
   "outputs": [
    {
     "data": {
      "text/plain": [
       "[(1, 2), ('ani', 'ajay'), (6, 7), 4, 5]"
      ]
     },
     "execution_count": 22,
     "metadata": {},
     "output_type": "execute_result"
    }
   ],
   "source": [
    "lst.append(5)\n",
    "lst"
   ]
  },
  {
   "cell_type": "code",
   "execution_count": 23,
   "id": "fc4884a9-0375-4425-b603-cee8be705fe4",
   "metadata": {},
   "outputs": [
    {
     "ename": "SyntaxError",
     "evalue": "invalid syntax (2397223935.py, line 1)",
     "output_type": "error",
     "traceback": [
      "\u001b[1;36m  Cell \u001b[1;32mIn[23], line 1\u001b[1;36m\u001b[0m\n\u001b[1;33m    lst.remove(::)\u001b[0m\n\u001b[1;37m               ^\u001b[0m\n\u001b[1;31mSyntaxError\u001b[0m\u001b[1;31m:\u001b[0m invalid syntax\n"
     ]
    }
   ],
   "source": [
    "lst.remove(::)"
   ]
  },
  {
   "cell_type": "code",
   "execution_count": 24,
   "id": "69c6aded-2d26-45ac-a44d-5478e8fa6a7a",
   "metadata": {},
   "outputs": [
    {
     "ename": "SyntaxError",
     "evalue": "invalid syntax (2049347360.py, line 1)",
     "output_type": "error",
     "traceback": [
      "\u001b[1;36m  Cell \u001b[1;32mIn[24], line 1\u001b[1;36m\u001b[0m\n\u001b[1;33m    star:end:stwpsize\u001b[0m\n\u001b[1;37m            ^\u001b[0m\n\u001b[1;31mSyntaxError\u001b[0m\u001b[1;31m:\u001b[0m invalid syntax\n"
     ]
    }
   ],
   "source": [
    "star:end:stwpsize\n",
    "[1,2,4,5,6,7]\n",
    "::2\n",
    "stepsize"
   ]
  },
  {
   "cell_type": "code",
   "execution_count": 25,
   "id": "f88792be-8ef8-40d1-9a41-14e724d1b91b",
   "metadata": {},
   "outputs": [
    {
     "data": {
      "text/plain": [
       "[1, 2, 4, 5, 7]"
      ]
     },
     "execution_count": 25,
     "metadata": {},
     "output_type": "execute_result"
    }
   ],
   "source": [
    "tup3=[1,2,3,4,5,7]\n",
    "\n",
    "newtup = tup3[0:2]+tup3[3:]\n",
    "newtup\n"
   ]
  },
  {
   "cell_type": "markdown",
   "id": "90aab2a5-6359-4de6-bb8a-d7820341b4e3",
   "metadata": {},
   "source": [
    "### How do you join a list of strings into a single string with spaces in between?\n"
   ]
  },
  {
   "cell_type": "code",
   "execution_count": 26,
   "id": "e6b0c33c-3cc8-4195-8001-86e74752f685",
   "metadata": {},
   "outputs": [
    {
     "data": {
      "text/plain": [
       "[1, 2, 4, 8, 8, 6]"
      ]
     },
     "execution_count": 26,
     "metadata": {},
     "output_type": "execute_result"
    }
   ],
   "source": [
    "ls1"
   ]
  },
  {
   "cell_type": "code",
   "execution_count": 27,
   "id": "ab297c5c-8b09-4f87-9ff4-f025d54487e8",
   "metadata": {},
   "outputs": [
    {
     "data": {
      "text/plain": [
       "[(1, 2), ('ani', 'ajay'), (6, 7), 4, 5]"
      ]
     },
     "execution_count": 27,
     "metadata": {},
     "output_type": "execute_result"
    }
   ],
   "source": [
    "lst"
   ]
  },
  {
   "cell_type": "code",
   "execution_count": 28,
   "id": "af257b43-b25c-4cf5-beb3-9969f97502e1",
   "metadata": {},
   "outputs": [
    {
     "name": "stdout",
     "output_type": "stream",
     "text": [
      "who are you\n"
     ]
    }
   ],
   "source": [
    "lss = [\"who\",\"are\",\"you\"]\n",
    "newls = \" \".join(lss)\n",
    "print(newls)"
   ]
  },
  {
   "cell_type": "code",
   "execution_count": 29,
   "id": "07156130-9316-40bb-8d68-03a47b9d86a1",
   "metadata": {},
   "outputs": [
    {
     "name": "stdin",
     "output_type": "stream",
     "text": [
      "enter the number 5\n"
     ]
    },
    {
     "name": "stdout",
     "output_type": "stream",
     "text": [
      "positive number\n"
     ]
    }
   ],
   "source": [
    "num = int(input(\"enter the number\"))\n",
    "if (num>=0) :\n",
    "    print(\"positive number\")\n",
    "    "
   ]
  },
  {
   "cell_type": "markdown",
   "id": "3b59c4db-a71c-43c7-a35d-6ba39d99b206",
   "metadata": {},
   "source": [
    "# elif"
   ]
  },
  {
   "cell_type": "markdown",
   "id": "455d2682-5098-4869-b83a-fc0fa9285f59",
   "metadata": {},
   "source": [
    "## to check multiple conditions in a conditional statement\n"
   ]
  },
  {
   "cell_type": "markdown",
   "id": "0962d023-648f-487a-92a1-646f395b8d01",
   "metadata": {},
   "source": [
    "### How do you check if a variable x is between 10 and 20 (inclusive)?\n"
   ]
  },
  {
   "cell_type": "code",
   "execution_count": 30,
   "id": "e4ce87e4-3773-4d15-83ec-82dd8299edcd",
   "metadata": {},
   "outputs": [
    {
     "name": "stdout",
     "output_type": "stream",
     "text": [
      "x is between 10 and 20 (inclusive)\n"
     ]
    }
   ],
   "source": [
    "x = 15\n",
    "\n",
    "\n",
    "\n",
    "if 10 <= x <= 20:\n",
    "\n",
    "    print(\"x is between 10 and 20 (inclusive)\") \n",
    "\n",
    "else:\n",
    "\n",
    "    print(\"x is not between 10 and 20\")"
   ]
  },
  {
   "cell_type": "markdown",
   "id": "0e93c2ea-b67b-47f0-be59-a85837bd6b44",
   "metadata": {},
   "source": [
    "### What is the result of an if statement when the condition is False?"
   ]
  },
  {
   "cell_type": "markdown",
   "id": "bcd01aeb-b0d8-4470-b212-542cfcffeff8",
   "metadata": {},
   "source": [
    "#### Ans:-the code block within the \"if\" statement is skipped"
   ]
  },
  {
   "cell_type": "code",
   "execution_count": 31,
   "id": "9f49c03b-de22-4185-9551-a1e0400650fe",
   "metadata": {},
   "outputs": [
    {
     "name": "stdout",
     "output_type": "stream",
     "text": [
      "Condition is False\n"
     ]
    }
   ],
   "source": [
    "x = 5\n",
    "\n",
    "# Condition is False\n",
    "if x > 10:\n",
    "    print(\"Condition is True\")\n",
    "else:\n",
    "    print(\"Condition is False\")\n"
   ]
  },
  {
   "cell_type": "markdown",
   "id": "17cdec00-a313-4bd4-a835-de37b8c1eb6c",
   "metadata": {},
   "source": [
    "#### How can you combine multiple conditions in a single if statement using and?"
   ]
  },
  {
   "cell_type": "code",
   "execution_count": 32,
   "id": "6831b0a4-86ea-4a5d-b811-ff6ad6ae1a44",
   "metadata": {},
   "outputs": [
    {
     "name": "stdout",
     "output_type": "stream",
     "text": [
      "Both conditions are True\n"
     ]
    }
   ],
   "source": [
    "x=5\n",
    "y=6\n",
    "if x > 2 and y < 15:\n",
    "    print(\"Both conditions are True\")\n",
    "else:\n",
    "    print(\"At least one condition is False\")"
   ]
  },
  {
   "cell_type": "markdown",
   "id": "87307d03-4f59-4df4-9a71-f4e4838a666f",
   "metadata": {},
   "source": [
    "#### What will be the output of an if-else statement if the condition is true?"
   ]
  },
  {
   "cell_type": "code",
   "execution_count": 33,
   "id": "fdc7ee13-343e-42d7-abe7-a79d25ed67eb",
   "metadata": {},
   "outputs": [
    {
     "name": "stdout",
     "output_type": "stream",
     "text": [
      "condition is true\n"
     ]
    }
   ],
   "source": [
    "x=7\n",
    "if x>5:\n",
    "    print(\"condition is true\")"
   ]
  },
  {
   "cell_type": "markdown",
   "id": "f06bac8f-9763-4dca-bc22-763b3cacf7fc",
   "metadata": {},
   "source": [
    "### How do you use the or operator to check if at least one of two conditions is true?\n"
   ]
  },
  {
   "cell_type": "code",
   "execution_count": 34,
   "id": "5182d16e-ccf2-4474-b76b-a79aaf13992a",
   "metadata": {},
   "outputs": [
    {
     "name": "stdout",
     "output_type": "stream",
     "text": [
      "Both conditions are True\n"
     ]
    }
   ],
   "source": [
    "x=5\n",
    "y=6\n",
    "if x < 2 or y < 20:\n",
    "    print(\"Both conditions are True\")\n",
    "else:\n",
    "    print(\"At least one condition is False\")"
   ]
  },
  {
   "cell_type": "markdown",
   "id": "e6d60c9c-97e6-4e44-8808-80ac7500fd7c",
   "metadata": {},
   "source": [
    "## What is the difference between == and is in conditional statements?"
   ]
  },
  {
   "cell_type": "code",
   "execution_count": 35,
   "id": "1064733d-3aa0-4c9e-a6d0-590e9fc25cc6",
   "metadata": {},
   "outputs": [
    {
     "name": "stdout",
     "output_type": "stream",
     "text": [
      "True\n",
      "False\n"
     ]
    }
   ],
   "source": [
    "a = [1, 2, 3]\n",
    "\n",
    "b = [1, 2, 3]\n",
    "print(a == b)  # This will print True (because the lists have the same values)\n",
    "\n",
    "print(a is b)  # This will print False (because they are two different list objects in memory)  memory)"
   ]
  },
  {
   "cell_type": "markdown",
   "id": "6bc37610-4160-4028-8fda-a2207aaf2031",
   "metadata": {},
   "source": [
    "### How can you check if a string s is empty?"
   ]
  },
  {
   "cell_type": "code",
   "execution_count": 36,
   "id": "2d4c45e2-df9e-45b1-a236-144b747f1990",
   "metadata": {},
   "outputs": [
    {
     "name": "stdout",
     "output_type": "stream",
     "text": [
      "The string is empty\n",
      "The string is empty\n"
     ]
    }
   ],
   "source": [
    "#1\n",
    "s = \"\"\n",
    "\n",
    "if not s:\n",
    "    print(\"The string is empty\")\n",
    "else:\n",
    "    print(\"The string is not empty\")\n",
    "\n",
    "\n",
    "\n",
    "\n",
    "#2\n",
    "s = \"\"\n",
    "\n",
    "if s == \"\":\n",
    "    print(\"The string is empty\")\n",
    "else:\n",
    "    print(\"The string is not empty\")"
   ]
  },
  {
   "cell_type": "markdown",
   "id": "7a4d8cea-d264-45ec-8551-b62f54cb85e7",
   "metadata": {},
   "source": [
    "### What is the result of the following condition: if not (x &gt; 10)?"
   ]
  },
  {
   "cell_type": "code",
   "execution_count": 37,
   "id": "eda9bc41-7caa-4870-bb21-4766a0aa8bff",
   "metadata": {},
   "outputs": [
    {
     "name": "stdout",
     "output_type": "stream",
     "text": [
      "Condition is True\n"
     ]
    }
   ],
   "source": [
    "x = 8\n",
    "\n",
    "if not (x > 10):\n",
    "    print(\"Condition is True\")\n",
    "else:\n",
    "    print(\"Condition is False\")\n"
   ]
  },
  {
   "cell_type": "markdown",
   "id": "35bd1efd-2f59-4aa6-9778-79b09850ea15",
   "metadata": {},
   "source": [
    "### How do you write a conditional statement to execute code only if a number is even?"
   ]
  },
  {
   "cell_type": "code",
   "execution_count": 38,
   "id": "1f319370-0a02-48d0-b01e-0eb4e81c2302",
   "metadata": {},
   "outputs": [
    {
     "name": "stdin",
     "output_type": "stream",
     "text": [
      "enter the number 5\n"
     ]
    },
    {
     "name": "stdout",
     "output_type": "stream",
     "text": [
      "odd\n"
     ]
    }
   ],
   "source": [
    "num = int(input(\"enter the number\"))\n",
    "if num%2==0:\n",
    "          print(\"even\")\n",
    "else:\n",
    "          print(\"odd\")\n"
   ]
  },
  {
   "cell_type": "code",
   "execution_count": 39,
   "id": "c709a61c-9def-4f85-b2a4-7cc97d311dbf",
   "metadata": {},
   "outputs": [
    {
     "data": {
      "text/plain": [
       "[]"
      ]
     },
     "execution_count": 39,
     "metadata": {},
     "output_type": "execute_result"
    }
   ],
   "source": [
    "ls= []\n",
    "ls"
   ]
  },
  {
   "cell_type": "code",
   "execution_count": 40,
   "id": "b1c88d5f-109f-46ab-9a2f-e3aaeaf966c5",
   "metadata": {},
   "outputs": [
    {
     "name": "stdout",
     "output_type": "stream",
     "text": [
      "x is 5 or less\n"
     ]
    }
   ],
   "source": [
    "x = 5  #ye condition ko glt print nhi hone deta\n",
    "\n",
    "if x > 5:\n",
    "    pass  # Placeholder for future code\n",
    "else:\n",
    "    print(\"x is 5 or less\")\n"
   ]
  },
  {
   "cell_type": "code",
   "execution_count": 41,
   "id": "3c2597a7-baa2-4fd8-8201-40b987225401",
   "metadata": {},
   "outputs": [
    {
     "name": "stdout",
     "output_type": "stream",
     "text": [
      "x is positive\n"
     ]
    }
   ],
   "source": [
    "### What will be the result if no conditions in an if-elif-else chain are met?\n",
    "x = 5\n",
    "\n",
    "\n",
    "\n",
    "if x < 0:\n",
    "\n",
    "    print(\"x is negative\")\n",
    "\n",
    "elif x > 0:\n",
    "\n",
    "    print(\"x is positive\")\n",
    "\n",
    "else:\n",
    "\n",
    "    print(\"x is zero\")  \n",
    "\n",
    "\n",
    "\n",
    "# Output: \"x is positive\" (since 5 is greater than 0)"
   ]
  },
  {
   "cell_type": "markdown",
   "id": "d0494d6b-ddb0-46d8-990a-9e130855050b",
   "metadata": {},
   "source": [
    "### How do you check if a number is divisible by both 3 and 5 using an if statement?"
   ]
  },
  {
   "cell_type": "code",
   "execution_count": 42,
   "id": "5cafe2cb-c98b-40be-a668-40f60745e523",
   "metadata": {},
   "outputs": [
    {
     "name": "stdin",
     "output_type": "stream",
     "text": [
      "enter the number 5\n"
     ]
    },
    {
     "name": "stdout",
     "output_type": "stream",
     "text": [
      "true\n"
     ]
    }
   ],
   "source": [
    "num1 = int(input(\"enter the number\"))\n",
    "if num1/3 and num1/5:\n",
    "           print(\"true\")"
   ]
  },
  {
   "cell_type": "code",
   "execution_count": 43,
   "id": "9201804b-e25d-49e8-bb0c-e33cf1af456f",
   "metadata": {},
   "outputs": [
    {
     "name": "stdout",
     "output_type": "stream",
     "text": [
      "30\n"
     ]
    }
   ],
   "source": [
    "## What is list indexing in Python?\n",
    "my_list = [10, 20, 30, 40, 50]\n",
    "\n",
    "print(my_list[2]) # we difine the positon here only"
   ]
  },
  {
   "cell_type": "code",
   "execution_count": 44,
   "id": "2859709c-38cd-4992-b6fd-05abebd53ef2",
   "metadata": {},
   "outputs": [
    {
     "name": "stdout",
     "output_type": "stream",
     "text": [
      "1\n"
     ]
    }
   ],
   "source": [
    "#2. How do you access the first element of a list?\n",
    "\n",
    "ls9 = [1,2,3]\n",
    "print(ls9[0])\n",
    "# use of index we excess the elment of list\n"
   ]
  },
  {
   "cell_type": "code",
   "execution_count": 45,
   "id": "09f4aedd-8f15-4755-8d55-4b5b11e98c1f",
   "metadata": {},
   "outputs": [
    {
     "data": {
      "text/plain": [
       "30"
      ]
     },
     "execution_count": 45,
     "metadata": {},
     "output_type": "execute_result"
    }
   ],
   "source": [
    "#3. What is the result of if \n",
    "my_list = [10, 20, 30, 40]\n",
    "my_list[2] "
   ]
  },
  {
   "cell_type": "code",
   "execution_count": 46,
   "id": "01b5a127-651b-4aaa-9293-1d1ad6869307",
   "metadata": {},
   "outputs": [
    {
     "name": "stdout",
     "output_type": "stream",
     "text": [
      "[10, 20, 30, 40]\n",
      "40\n",
      "[10, 20, 30]\n"
     ]
    }
   ],
   "source": [
    "# 4. How can you access the last element of a list?\n",
    "print(my_list)\n",
    "print(my_list.pop()) #using pop we out the last element of list\n",
    "print(my_list)"
   ]
  },
  {
   "cell_type": "code",
   "execution_count": 47,
   "id": "ee9c6d42-3f9d-4e78-9ef7-a06b65d6eb44",
   "metadata": {},
   "outputs": [
    {
     "data": {
      "text/plain": [
       "5"
      ]
     },
     "execution_count": 47,
     "metadata": {},
     "output_type": "execute_result"
    }
   ],
   "source": [
    "# 5. What will my_list[-1] return if my_list = [1, 2, 3, 4, 5]?\n",
    "my_list = [1, 2, 3, 4, 5]\n",
    "my_list[-1]"
   ]
  },
  {
   "cell_type": "code",
   "execution_count": 48,
   "id": "ccf62e01-884b-45aa-b4ac-f156a64dc51a",
   "metadata": {},
   "outputs": [
    {
     "data": {
      "text/plain": [
       "[2, 3, 4]"
      ]
     },
     "execution_count": 48,
     "metadata": {},
     "output_type": "execute_result"
    }
   ],
   "source": [
    "#6. How do you access a range of elements in a list?\n",
    "my_list[1:4]"
   ]
  },
  {
   "cell_type": "code",
   "execution_count": 49,
   "id": "9a0b8945-362c-47c3-bff3-f33deaf3d788",
   "metadata": {},
   "outputs": [
    {
     "data": {
      "text/plain": [
       "[20, 30, 40]"
      ]
     },
     "execution_count": 49,
     "metadata": {},
     "output_type": "execute_result"
    }
   ],
   "source": [
    "#7. What does my_list[1:4] return for my_list = [10, 20, 30, 40, 50]?\n",
    "my_list = [10, 20, 30, 40, 50]\n",
    "my_list[1:4]"
   ]
  },
  {
   "cell_type": "code",
   "execution_count": 50,
   "id": "0f8982b6-176d-4481-beb4-d0f82d0a2cf0",
   "metadata": {},
   "outputs": [
    {
     "name": "stdout",
     "output_type": "stream",
     "text": [
      "['a', 'c']\n",
      "['a', 'b', 'c']\n"
     ]
    }
   ],
   "source": [
    "# What is the result of my_list[:3] if my_list = ['a','b','c','d']?\n",
    "my_list = ['a','b','c','d']\n",
    "print(my_list[::2]) # it means 2 step cross\n",
    "print(my_list[:3])"
   ]
  },
  {
   "cell_type": "code",
   "execution_count": 53,
   "id": "114ed1e5-aa03-40d4-8d13-ef8141f6187c",
   "metadata": {},
   "outputs": [
    {
     "name": "stdout",
     "output_type": "stream",
     "text": [
      "[1, 2, 3]\n"
     ]
    }
   ],
   "source": [
    "#9. How do you get a sublist from the beginning to a specified index?\n",
    "my_list1 = [1, 2, 3, 4, 5, 6]\n",
    "\n",
    "sublist = my_list1[0:3]\n",
    "print(sublist)"
   ]
  },
  {
   "cell_type": "code",
   "execution_count": 54,
   "id": "f72a9957-fab4-4a1d-8446-ea7f8c9b0357",
   "metadata": {},
   "outputs": [
    {
     "data": {
      "text/plain": [
       "[3, 4, 5]"
      ]
     },
     "execution_count": 54,
     "metadata": {},
     "output_type": "execute_result"
    }
   ],
   "source": [
    "#10. What will my_list[2:] return if my_list = [1, 2, 3, 4, 5]?\n",
    "my_list = [1, 2, 3, 4, 5]\n",
    "my_list[2:]"
   ]
  },
  {
   "cell_type": "code",
   "execution_count": 63,
   "id": "8fb7bac5-1e64-4e45-bce3-419ef810f486",
   "metadata": {},
   "outputs": [
    {
     "name": "stdout",
     "output_type": "stream",
     "text": [
      "[5, 4, 3, 2, 1]\n"
     ]
    }
   ],
   "source": [
    "#11. How can you reverse a list using slicing?\n",
    "my_list[6:-5]\n",
    "print(my_list)"
   ]
  },
  {
   "cell_type": "code",
   "execution_count": 64,
   "id": "7bedd321-65f0-434c-8fad-ea2ba54b2398",
   "metadata": {},
   "outputs": [
    {
     "name": "stdout",
     "output_type": "stream",
     "text": [
      "[3, 2, 1]\n"
     ]
    }
   ],
   "source": [
    "# What does my_list[::-1] do if my_list = [1, 2, 3]?\n",
    "my_list = [1, 2, 3]\n",
    "print(my_list[::-1])"
   ]
  },
  {
   "cell_type": "code",
   "execution_count": 74,
   "id": "83e0eb8d-33f0-465a-aa34-6ab5bf4aaf2a",
   "metadata": {},
   "outputs": [
    {
     "name": "stdout",
     "output_type": "stream",
     "text": [
      "[6, 4, 2]\n",
      "[1, 2, 3, 4, 5, 6]\n"
     ]
    }
   ],
   "source": [
    "# 13. How do you extract every second element from a list?\n",
    "my_list = [1, 2, 3,4,5,6]\n",
    "print(my_list[5:0:-2])\n",
    "print(my_list)"
   ]
  },
  {
   "cell_type": "code",
   "execution_count": 75,
   "id": "dd9579b1-4699-4797-ba1e-aa060b31cd26",
   "metadata": {},
   "outputs": [
    {
     "data": {
      "text/plain": [
       "[10, 30, 50]"
      ]
     },
     "execution_count": 75,
     "metadata": {},
     "output_type": "execute_result"
    }
   ],
   "source": [
    "# 14. What will my_list[::2] return if my_list = [10, 20, 30, 40, 50]?\n",
    "my_list = [10, 20, 30, 40, 50]\n",
    "my_list[::2] "
   ]
  },
  {
   "cell_type": "code",
   "execution_count": 76,
   "id": "881935b2-ad2f-4077-a01c-d406a4742179",
   "metadata": {},
   "outputs": [
    {
     "data": {
      "text/plain": [
       "[8, 7]"
      ]
     },
     "execution_count": 76,
     "metadata": {},
     "output_type": "execute_result"
    }
   ],
   "source": [
    "# 16. What is the output of my_list[3:1:-1] if my_list = [5, 6, 7, 8, 9]?\n",
    "my_list = [5, 6, 7, 8, 9]\n",
    "my_list[3:1:-1]"
   ]
  },
  {
   "cell_type": "code",
   "execution_count": 77,
   "id": "1a4bb9d6-d22e-46ed-bf3d-c7b26a782633",
   "metadata": {},
   "outputs": [],
   "source": [
    "# 17. How do you handle list indexing errors, such as accessing an out-of-range index?\n"
   ]
  },
  {
   "cell_type": "code",
   "execution_count": 78,
   "id": "62327372-d20f-44a0-96f8-c38ad9cd7be1",
   "metadata": {},
   "outputs": [
    {
     "name": "stdout",
     "output_type": "stream",
     "text": [
      "IndexError: Index is out of range.\n"
     ]
    }
   ],
   "source": [
    "# 18. What happens if you use an index greater than the length of the list?\n",
    "my_list = [1, 2, 3, 4, 5]\n",
    "\n",
    "try:\n",
    "    # Attempt to access an index greater than the length of the list\n",
    "    element = my_list[10]\n",
    "except IndexError:\n",
    "    print(\"IndexError: Index is out of range.\")"
   ]
  },
  {
   "cell_type": "code",
   "execution_count": 79,
   "id": "4f3385e6-68f8-4ef5-a225-e55232601a67",
   "metadata": {},
   "outputs": [
    {
     "name": "stdout",
     "output_type": "stream",
     "text": [
      "50\n",
      "40\n",
      "30\n"
     ]
    }
   ],
   "source": [
    "# 19. How do negative indices work in Python lists?\n",
    "my_list = [10, 20, 30, 40, 50]\n",
    "\n",
    "# Access the last element\n",
    "last_element = my_list[-1]\n",
    "print(last_element)  # Output: 50\n",
    "\n",
    "# Access the second-to-last element\n",
    "second_to_last_element = my_list[-2]\n",
    "print(second_to_last_element)  # Output: 40\n",
    "\n",
    "# Access the third-to-last element\n",
    "third_to_last_element = my_list[-3]\n",
    "print(third_to_last_element)  # Output: 30\n"
   ]
  },
  {
   "cell_type": "code",
   "execution_count": 80,
   "id": "e2a8014c-082a-44da-addf-76751ad6d40a",
   "metadata": {},
   "outputs": [
    {
     "data": {
      "text/plain": [
       "[6, 7, 8]"
      ]
     },
     "execution_count": 80,
     "metadata": {},
     "output_type": "execute_result"
    }
   ],
   "source": [
    "# 20. What does my_list[-3:] return if my_list = [4, 5, 6, 7, 8]?\n",
    "my_list = [4, 5, 6, 7, 8]\n",
    "my_list[-3:]"
   ]
  },
  {
   "cell_type": "code",
   "execution_count": 83,
   "id": "420a81ad-1f4c-4825-88de-dab31e402152",
   "metadata": {},
   "outputs": [
    {
     "data": {
      "text/plain": [
       "[4, 5, 6, 7, 8]"
      ]
     },
     "execution_count": 83,
     "metadata": {},
     "output_type": "execute_result"
    }
   ],
   "source": [
    "# 21. How can you use slicing to create a copy of a list?\n",
    "my_list = [4, 5, 6, 7, 8]\n",
    "my_list[:]"
   ]
  },
  {
   "cell_type": "code",
   "execution_count": 84,
   "id": "acfefc2b-32f0-45d5-a060-53920d7b5fcb",
   "metadata": {},
   "outputs": [
    {
     "data": {
      "text/plain": [
       "[1, 4]"
      ]
     },
     "execution_count": 84,
     "metadata": {},
     "output_type": "execute_result"
    }
   ],
   "source": [
    "# 22. What is the result of my_list[::3] for my_list = [1, 2, 3, 4, 5, 6]?\n",
    "my_list = [1, 2, 3, 4, 5, 6]\n",
    "my_list[::3]"
   ]
  },
  {
   "cell_type": "code",
   "execution_count": 85,
   "id": "0a997d42-c70d-4860-a116-073d888c09b0",
   "metadata": {},
   "outputs": [
    {
     "data": {
      "text/plain": [
       "[2, 3, 4, 5]"
      ]
     },
     "execution_count": 85,
     "metadata": {},
     "output_type": "execute_result"
    }
   ],
   "source": [
    "# 23. How can you use slicing to remove the first and last elements of a list?\n",
    "my_list = [1, 2, 3, 4, 5, 6]\n",
    "my_list[1:5]"
   ]
  },
  {
   "cell_type": "code",
   "execution_count": 86,
   "id": "ff58c727-f458-40d1-95d5-6935377bb191",
   "metadata": {},
   "outputs": [
    {
     "data": {
      "text/plain": [
       "[20, 30, 40]"
      ]
     },
     "execution_count": 86,
     "metadata": {},
     "output_type": "execute_result"
    }
   ],
   "source": [
    "# 24. What is the result of my_list[1:-1] if my_list = [10, 20, 30, 40, 50]?\n",
    "my_list = [10, 20, 30, 40, 50]\n",
    "my_list[1:-1]"
   ]
  },
  {
   "cell_type": "code",
   "execution_count": 87,
   "id": "09bc0b39-a122-4f2a-b06a-f9b2cbad0d71",
   "metadata": {},
   "outputs": [
    {
     "data": {
      "text/plain": [
       "[]"
      ]
     },
     "execution_count": 87,
     "metadata": {},
     "output_type": "execute_result"
    }
   ],
   "source": [
    "my_list1=[]\n",
    "my_list1"
   ]
  },
  {
   "cell_type": "code",
   "execution_count": 88,
   "id": "0cce446d-8d7a-49a1-8e19-5644cb7c7830",
   "metadata": {},
   "outputs": [
    {
     "name": "stdout",
     "output_type": "stream",
     "text": [
      "The list is not empty.\n"
     ]
    }
   ],
   "source": [
    "if not my_list:\n",
    "    print(\"The list is empty.\")\n",
    "else:\n",
    "    print(\"The list is not empty.\")\n"
   ]
  },
  {
   "cell_type": "code",
   "execution_count": 89,
   "id": "65542cd4-5e7a-4fa3-a4f2-36cd2931c353",
   "metadata": {},
   "outputs": [
    {
     "data": {
      "text/plain": [
       "[2, 3, 4]"
      ]
     },
     "execution_count": 89,
     "metadata": {},
     "output_type": "execute_result"
    }
   ],
   "source": [
    "# 26. What does my_list[2:-2] return for my_list = [0, 1, 2, 3, 4, 5, 6]?\n",
    "my_list = [0, 1, 2, 3, 4, 5, 6]\n",
    "my_list[2:-2]"
   ]
  },
  {
   "cell_type": "code",
   "execution_count": 90,
   "id": "bf8ec83c-6227-4d2d-a33b-adbf9a378f63",
   "metadata": {},
   "outputs": [],
   "source": [
    "# 27. How do list slicing and indexing differ when used with multidimensional lists?\n"
   ]
  },
  {
   "cell_type": "code",
   "execution_count": 91,
   "id": "9d5cffa9-6392-4a62-a6e6-c24b2e5e3f22",
   "metadata": {},
   "outputs": [
    {
     "data": {
      "text/plain": [
       "[0, 1, 2, 3, 4, 5, 6]"
      ]
     },
     "execution_count": 91,
     "metadata": {},
     "output_type": "execute_result"
    }
   ],
   "source": [
    "# 28. What is the result of my_list[::]?\n",
    "my_list[::]\n"
   ]
  },
  {
   "cell_type": "code",
   "execution_count": 93,
   "id": "719b291f-05a4-4fef-b8c0-0a118dac24b6",
   "metadata": {},
   "outputs": [],
   "source": [
    "# 29. How do you use slicing to obtain a specific part of a list from a specific start and end index?\n",
    "\n",
    "#To obtain a specific part of a list using slicing, you specify the start and end indices in the slice notation. "
   ]
  },
  {
   "cell_type": "code",
   "execution_count": null,
   "id": "729d6719-ab30-42cd-b229-fce2fa4355ba",
   "metadata": {},
   "outputs": [],
   "source": [
    "# 30. How can you combine slices to extract different non-contiguous parts of a list?\n"
   ]
  }
 ],
 "metadata": {
  "kernelspec": {
   "display_name": "Python 3 (ipykernel)",
   "language": "python",
   "name": "python3"
  },
  "language_info": {
   "codemirror_mode": {
    "name": "ipython",
    "version": 3
   },
   "file_extension": ".py",
   "mimetype": "text/x-python",
   "name": "python",
   "nbconvert_exporter": "python",
   "pygments_lexer": "ipython3",
   "version": "3.12.4"
  }
 },
 "nbformat": 4,
 "nbformat_minor": 5
}
