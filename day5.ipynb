{
 "cells": [
  {
   "cell_type": "code",
   "execution_count": 3,
   "id": "3d3ddcf5-56a5-409e-88ee-532ff8818dd1",
   "metadata": {},
   "outputs": [
    {
     "data": {
      "text/plain": [
       "'ra'"
      ]
     },
     "execution_count": 3,
     "metadata": {},
     "output_type": "execute_result"
    }
   ],
   "source": [
    "msg=\"hey_tushar\"\n",
    "msg[-1:-3:-1]"
   ]
  },
  {
   "cell_type": "code",
   "execution_count": 4,
   "id": "e4555942-dea9-4558-ab5a-7088f9ba0876",
   "metadata": {},
   "outputs": [
    {
     "data": {
      "text/plain": [
       "'sh'"
      ]
     },
     "execution_count": 4,
     "metadata": {},
     "output_type": "execute_result"
    }
   ],
   "source": [
    "msg[-4:-2]"
   ]
  },
  {
   "cell_type": "code",
   "execution_count": 120,
   "id": "66fd95e3-1fb5-47b3-90fb-fd988d95feb9",
   "metadata": {},
   "outputs": [
    {
     "data": {
      "text/plain": [
       "list"
      ]
     },
     "execution_count": 120,
     "metadata": {},
     "output_type": "execute_result"
    }
   ],
   "source": [
    "#list data type\n",
    "#collection of values\n",
    "#mutable data typ in python\n",
    "#orederd \n",
    "mylist=[10,2,3,'abc']\n",
    "type(mylist)"
   ]
  },
  {
   "cell_type": "code",
   "execution_count": 121,
   "id": "e1f95c7e-7c0a-40b5-8e2b-384f89b1b2a4",
   "metadata": {},
   "outputs": [
    {
     "data": {
      "text/plain": [
       "[3, 'abc']"
      ]
     },
     "execution_count": 121,
     "metadata": {},
     "output_type": "execute_result"
    }
   ],
   "source": [
    "mylist[2:5]\n"
   ]
  },
  {
   "cell_type": "code",
   "execution_count": 122,
   "id": "feee2ff8-3451-4a8e-91d6-5b4c8f1a33a7",
   "metadata": {},
   "outputs": [
    {
     "name": "stdout",
     "output_type": "stream",
     "text": [
      "[500, 2, 3, 'abc']\n"
     ]
    }
   ],
   "source": [
    "mylist[0]=500\n",
    "print(mylist)"
   ]
  },
  {
   "cell_type": "code",
   "execution_count": 123,
   "id": "4c6ab466-fd63-4224-a9fb-f202b828de8a",
   "metadata": {},
   "outputs": [
    {
     "name": "stdout",
     "output_type": "stream",
     "text": [
      "['A', 'B', 3, 'abc']\n"
     ]
    }
   ],
   "source": [
    "mylist[0:2]=[\"A\",\"B\"]\n",
    "print(mylist)\n"
   ]
  },
  {
   "cell_type": "code",
   "execution_count": 124,
   "id": "a6d7e840-54d0-46df-aa8c-3ade99e2d9c8",
   "metadata": {},
   "outputs": [
    {
     "data": {
      "text/plain": [
       "['A', 'B', 3, 'abc', 19]"
      ]
     },
     "execution_count": 124,
     "metadata": {},
     "output_type": "execute_result"
    }
   ],
   "source": [
    "mylist.append(19) #append use of one data add in last\n",
    "mylist"
   ]
  },
  {
   "cell_type": "code",
   "execution_count": 125,
   "id": "a357be8d-de26-4567-b503-82cedd9a41c2",
   "metadata": {},
   "outputs": [
    {
     "data": {
      "text/plain": [
       "['A', 'B', 3, 'abc', 19, 98, 88, 77]"
      ]
     },
     "execution_count": 125,
     "metadata": {},
     "output_type": "execute_result"
    }
   ],
   "source": [
    "mylist.extend([98,88,77]) #use for multiple data add in last\n",
    "mylist"
   ]
  },
  {
   "cell_type": "code",
   "execution_count": 126,
   "id": "0dc94664-6c7a-4f00-a96f-9da8d9803c3f",
   "metadata": {},
   "outputs": [
    {
     "name": "stdout",
     "output_type": "stream",
     "text": [
      "77\n"
     ]
    },
    {
     "data": {
      "text/plain": [
       "['A', 'B', 3, 'abc', 19, 98, 88]"
      ]
     },
     "execution_count": 126,
     "metadata": {},
     "output_type": "execute_result"
    }
   ],
   "source": [
    "print(mylist.pop() ) #last elemnt delete\n",
    "mylist"
   ]
  },
  {
   "cell_type": "code",
   "execution_count": 127,
   "id": "cf4e7f4e-4c37-4474-be55-1d3c130c4ba5",
   "metadata": {},
   "outputs": [
    {
     "name": "stdout",
     "output_type": "stream",
     "text": [
      "['A', 'B', 3, 'abc', 19, 98]\n"
     ]
    }
   ],
   "source": [
    "x=mylist.pop()\n",
    "print(mylist)"
   ]
  },
  {
   "cell_type": "code",
   "execution_count": 128,
   "id": "e7acd472-0d25-40c9-b3c5-f498fd1d8879",
   "metadata": {},
   "outputs": [
    {
     "ename": "SyntaxError",
     "evalue": "incomplete input (3334675721.py, line 1)",
     "output_type": "error",
     "traceback": [
      "\u001b[1;36m  Cell \u001b[1;32mIn[128], line 1\u001b[1;36m\u001b[0m\n\u001b[1;33m    [print(x)\u001b[0m\n\u001b[1;37m             ^\u001b[0m\n\u001b[1;31mSyntaxError\u001b[0m\u001b[1;31m:\u001b[0m incomplete input\n"
     ]
    }
   ],
   "source": [
    "[print(x)"
   ]
  },
  {
   "cell_type": "code",
   "execution_count": 129,
   "id": "c2aa5578-359e-4c68-9630-6e8fb96400fd",
   "metadata": {},
   "outputs": [
    {
     "name": "stdout",
     "output_type": "stream",
     "text": [
      "10\n",
      "20\n",
      "4\n",
      "5\n",
      "hey\n"
     ]
    }
   ],
   "source": [
    "#loop in list\n",
    "# directly\n",
    "for i in [10,20,4,5,\"hey\"]:\n",
    "    print(i)"
   ]
  },
  {
   "cell_type": "code",
   "execution_count": 130,
   "id": "c28229c8-045f-4849-837c-842137701c07",
   "metadata": {},
   "outputs": [
    {
     "data": {
      "text/plain": [
       "6"
      ]
     },
     "execution_count": 130,
     "metadata": {},
     "output_type": "execute_result"
    }
   ],
   "source": [
    "mylist1=[10,20,4,5,\"hey\",88]\n",
    "len(mylist1)\n"
   ]
  },
  {
   "cell_type": "code",
   "execution_count": 131,
   "id": "b88a2d4d-bb8e-4980-a4f0-a7f253afe334",
   "metadata": {},
   "outputs": [
    {
     "data": {
      "text/plain": [
       "'hey'"
      ]
     },
     "execution_count": 131,
     "metadata": {},
     "output_type": "execute_result"
    }
   ],
   "source": [
    "mylist1[4]"
   ]
  },
  {
   "cell_type": "code",
   "execution_count": 132,
   "id": "591c7d06-c6f5-4946-b937-6458ac31a51c",
   "metadata": {},
   "outputs": [
    {
     "name": "stdout",
     "output_type": "stream",
     "text": [
      "0 10\n",
      "1 20\n",
      "2 4\n",
      "3 5\n",
      "4 hey\n",
      "5 88\n"
     ]
    }
   ],
   "source": [
    "for index in range(0,6):\n",
    "    print(index, mylist1[index])\n",
    "    "
   ]
  },
  {
   "cell_type": "code",
   "execution_count": 133,
   "id": "cea6740b-71ff-4ede-b3d0-a2b29ba17060",
   "metadata": {},
   "outputs": [
    {
     "name": "stdout",
     "output_type": "stream",
     "text": [
      "10\n",
      "20\n",
      "4\n",
      "88\n"
     ]
    }
   ],
   "source": [
    "mylist2=[10,20,4,5,21,88]\n",
    "for index in range(0,6):\n",
    "    if (mylist2[index]%2==0):\n",
    "        print(mylist2[index])\n"
   ]
  },
  {
   "cell_type": "code",
   "execution_count": 134,
   "id": "8be2c9f7-5b77-4d7a-9e88-f80710b2478a",
   "metadata": {},
   "outputs": [
    {
     "name": "stdout",
     "output_type": "stream",
     "text": [
      "100\n",
      "400\n",
      "16\n",
      "25\n",
      "441\n",
      "7744\n"
     ]
    }
   ],
   "source": [
    "x=[10,20,4,5,21,88]\n",
    "for x in [10,20,4,5,21,88]:\n",
    "    if type(x)==int:\n",
    "        print(x**2)\n"
   ]
  },
  {
   "cell_type": "code",
   "execution_count": null,
   "id": "5374b2a2-148d-49ea-858e-044cf5fa97d0",
   "metadata": {},
   "outputs": [],
   "source": [
    "ml=[]\n",
    "for i in [10,20,4,5,21,88]:\n",
    "    if("
   ]
  },
  {
   "cell_type": "code",
   "execution_count": 141,
   "id": "d4b06d59-5171-4d3e-9854-37ad6d86d6ca",
   "metadata": {},
   "outputs": [
    {
     "name": "stdout",
     "output_type": "stream",
     "text": [
      "true\n"
     ]
    }
   ],
   "source": [
    "x=5\n",
    "list1=[34,11,5,56,78,5]\n",
    "if x in list1:\n",
    "    print(\"true\")\n",
    "else:\n",
    "    print(\"false\")"
   ]
  },
  {
   "cell_type": "code",
   "execution_count": 148,
   "id": "c8fed6ba-6013-4808-bf03-e901b14d2d85",
   "metadata": {},
   "outputs": [
    {
     "name": "stdout",
     "output_type": "stream",
     "text": [
      "34 11\n",
      "34 5\n",
      "34 56\n",
      "34 78\n",
      "34 5\n",
      "------\n",
      "11 5\n",
      "11 56\n",
      "11 78\n",
      "11 5\n",
      "------\n",
      "5 56\n",
      "5 78\n",
      "5 5\n",
      "------\n",
      "56 78\n",
      "56 5\n",
      "------\n",
      "78 5\n",
      "------\n",
      "------\n"
     ]
    }
   ],
   "source": [
    "mylist=[34,11,5,56,78,5]\n",
    "for i in range(0, len(mylist)):\n",
    "    for j in range(i+1, len(mylist)):\n",
    "        print(mylist[i], mylist[j])\n",
    "    print('------')\n",
    "    "
   ]
  },
  {
   "cell_type": "code",
   "execution_count": 167,
   "id": "c5fdbbf9-9e45-4ca3-a2d7-b734f9aec737",
   "metadata": {},
   "outputs": [
    {
     "name": "stdout",
     "output_type": "stream",
     "text": [
      "not dupi\n"
     ]
    }
   ],
   "source": [
    "mylist4=[34,11,5,56,78,5,11]\n",
    "x=0\n",
    "for i in range(0, len(mylist4)):\n",
    "    for j in range(i+1, len(mylist4)):\n",
    "        if(mylist4[i] == mylist4[j]):\n",
    "            x=x+1\n",
    "            break\n",
    "if(x==1):\n",
    "    print(\"duplicte\")\n",
    "else:\n",
    "    print(\"not dupi\")"
   ]
  },
  {
   "cell_type": "code",
   "execution_count": 176,
   "id": "f5deb42c-b1f7-4371-9437-1516bc15540b",
   "metadata": {},
   "outputs": [
    {
     "ename": "NameError",
     "evalue": "name 'dipli' is not defined",
     "output_type": "error",
     "traceback": [
      "\u001b[1;31m---------------------------------------------------------------------------\u001b[0m",
      "\u001b[1;31mNameError\u001b[0m                                 Traceback (most recent call last)",
      "Cell \u001b[1;32mIn[176], line 6\u001b[0m\n\u001b[0;32m      4\u001b[0m \u001b[38;5;28;01mfor\u001b[39;00m j \u001b[38;5;129;01min\u001b[39;00m \u001b[38;5;28mrange\u001b[39m(i\u001b[38;5;241m+\u001b[39m\u001b[38;5;241m1\u001b[39m, \u001b[38;5;28mlen\u001b[39m(l1)):\n\u001b[0;32m      5\u001b[0m     \u001b[38;5;28;01mif\u001b[39;00m (l1[i] \u001b[38;5;241m==\u001b[39m l1[j]):\n\u001b[1;32m----> 6\u001b[0m         \u001b[38;5;28;01mif\u001b[39;00m l1[i] \u001b[38;5;129;01mnot\u001b[39;00m \u001b[38;5;129;01min\u001b[39;00m dipli:\n\u001b[0;32m      7\u001b[0m             dupli\u001b[38;5;241m.\u001b[39mappend(l1[i])\n\u001b[0;32m     10\u001b[0m         \u001b[38;5;28mprint\u001b[39m(mylist[i], mylist[j])\n",
      "\u001b[1;31mNameError\u001b[0m: name 'dipli' is not defined"
     ]
    }
   ],
   "source": [
    "l1=[10,12,10,101,11,11,10]\n",
    "dupli=[]\n",
    "for i in range(0, len(l1)):\n",
    "    for j in range(i+1, len(l1)):\n",
    "        if (l1[i] == l1[j]):\n",
    "            if l1[i] not in dipli:\n",
    "                dupli.append(l1[i])\n",
    "            \n",
    "            \n",
    "            print(mylist[i], mylist[j]) \n"
   ]
  },
  {
   "cell_type": "code",
   "execution_count": null,
   "id": "7e1af324-39fc-4fe6-9b26-c7368b103aa7",
   "metadata": {},
   "outputs": [],
   "source": [
    "lis=[16,9,8,10,2,7]\n",
    "duplicate=[]\n",
    "x=0"
   ]
  },
  {
   "cell_type": "code",
   "execution_count": null,
   "id": "cb3eb480-5992-467e-8517-2cdcd9a69691",
   "metadata": {},
   "outputs": [],
   "source": [
    "duplicate="
   ]
  },
  {
   "cell_type": "code",
   "execution_count": null,
   "id": "ec6797ab-08c5-4b23-a9c0-02f1b725d2c4",
   "metadata": {},
   "outputs": [],
   "source": []
  },
  {
   "cell_type": "code",
   "execution_count": null,
   "id": "1ce9a633-5bc5-4812-91fc-da09249bd902",
   "metadata": {},
   "outputs": [],
   "source": []
  },
  {
   "cell_type": "code",
   "execution_count": null,
   "id": "8d34ee84-6955-4bc1-af75-bc0a713a33ea",
   "metadata": {},
   "outputs": [],
   "source": []
  },
  {
   "cell_type": "code",
   "execution_count": null,
   "id": "20e7280c-7ae0-40cd-9513-4e1ff4aebc31",
   "metadata": {},
   "outputs": [],
   "source": []
  },
  {
   "cell_type": "code",
   "execution_count": null,
   "id": "03396830-0862-440a-8f8b-fd77f579d41b",
   "metadata": {},
   "outputs": [],
   "source": []
  },
  {
   "cell_type": "code",
   "execution_count": null,
   "id": "081062ff-3415-4b0b-9f6c-af3a69ba1236",
   "metadata": {},
   "outputs": [],
   "source": []
  },
  {
   "cell_type": "code",
   "execution_count": null,
   "id": "378a7aaa-2e8a-4601-b7dd-ba3edc16ced1",
   "metadata": {},
   "outputs": [],
   "source": []
  },
  {
   "cell_type": "code",
   "execution_count": null,
   "id": "0ded876e-486b-4ca4-b04b-a684105ec642",
   "metadata": {},
   "outputs": [],
   "source": []
  },
  {
   "cell_type": "code",
   "execution_count": null,
   "id": "f1c5f0f2-cc0d-4ce7-85b1-b857ab63d7dc",
   "metadata": {},
   "outputs": [],
   "source": []
  }
 ],
 "metadata": {
  "kernelspec": {
   "display_name": "Python 3 (ipykernel)",
   "language": "python",
   "name": "python3"
  },
  "language_info": {
   "codemirror_mode": {
    "name": "ipython",
    "version": 3
   },
   "file_extension": ".py",
   "mimetype": "text/x-python",
   "name": "python",
   "nbconvert_exporter": "python",
   "pygments_lexer": "ipython3",
   "version": "3.12.4"
  }
 },
 "nbformat": 4,
 "nbformat_minor": 5
}
