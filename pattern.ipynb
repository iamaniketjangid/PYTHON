{
 "cells": [
  {
   "cell_type": "code",
   "execution_count": 26,
   "id": "cfe3e01f-7fa5-463b-b271-c1119afc159e",
   "metadata": {},
   "outputs": [
    {
     "name": "stdout",
     "output_type": "stream",
     "text": [
      "*   \n",
      "**  \n",
      "*** \n",
      "****\n"
     ]
    }
   ],
   "source": [
    "for i in range(1,5):\n",
    "    for j in range(1,5):\n",
    "        if j<=i:\n",
    "            print(\"*\",end='')\n",
    "        else:\n",
    "            print(\" \",end='')\n",
    "    print() "
   ]
  },
  {
   "cell_type": "code",
   "execution_count": 74,
   "id": "fb4350b9-8c94-4e50-afea-454714b10949",
   "metadata": {},
   "outputs": [
    {
     "name": "stdout",
     "output_type": "stream",
     "text": [
      "   *\n",
      "  **\n",
      " ***\n",
      "****\n"
     ]
    }
   ],
   "source": [
    "for i in range(1,5):\n",
    "    for j in range(5,1,-1):\n",
    "        if j<=i+1:\n",
    "                print(\"*\",end='')\n",
    "        else:\n",
    "            print(\" \",end='')\n",
    "    print() \n",
    "            "
   ]
  },
  {
   "cell_type": "code",
   "execution_count": 118,
   "id": "470b9a60-b44d-4213-bd5a-f1a79bdc62c0",
   "metadata": {},
   "outputs": [
    {
     "name": "stdout",
     "output_type": "stream",
     "text": [
      "****\n",
      "*** \n",
      "**  \n",
      "*   \n"
     ]
    }
   ],
   "source": [
    "for i in range(1,5,):\n",
    "    for j in range(1,5):\n",
    "        if j<=5-i:\n",
    "                print(\"*\",end='')\n",
    "        else:\n",
    "            print(\" \",end='')\n",
    "    print() "
   ]
  },
  {
   "cell_type": "code",
   "execution_count": 120,
   "id": "24c7bb97-7a35-483f-a04d-6bfd9b4c772f",
   "metadata": {},
   "outputs": [
    {
     "name": "stdout",
     "output_type": "stream",
     "text": [
      "****\n",
      " ***\n",
      "  **\n",
      "   *\n"
     ]
    }
   ],
   "source": [
    "for i in range(1,5,):\n",
    "    for j in range(1,5):\n",
    "        if j>=i:\n",
    "                print(\"*\",end='')\n",
    "        else:\n",
    "            print(\" \",end='')\n",
    "    print() "
   ]
  },
  {
   "cell_type": "code",
   "execution_count": 122,
   "id": "2137ba8b-2280-4c2b-b117-45ec71f5af6d",
   "metadata": {},
   "outputs": [
    {
     "name": "stdout",
     "output_type": "stream",
     "text": [
      " * * * *\n",
      "  * * *\n",
      "   * *\n",
      "    *\n"
     ]
    }
   ],
   "source": [
    " for i in range(1,5,):\n",
    "    for j in range(1,5):\n",
    "        if j>=i:\n",
    "                print(\" *\",end='')\n",
    "        else:\n",
    "            print(\" \",end='')\n",
    "    print() "
   ]
  },
  {
   "cell_type": "code",
   "execution_count": 131,
   "id": "dd213f68-edb3-4343-8780-944fa404385d",
   "metadata": {},
   "outputs": [
    {
     "name": "stdout",
     "output_type": "stream",
     "text": [
      "    *\n",
      "   * *\n",
      "  * * *\n",
      " * * * *\n"
     ]
    }
   ],
   "source": [
    "for i in range(1,5):\n",
    "    for j in range(5,1,-1):\n",
    "        if j<=i+1:\n",
    "                print(\" *\",end='')\n",
    "        else:\n",
    "            print(\" \",end='')\n",
    "    print() "
   ]
  },
  {
   "cell_type": "code",
   "execution_count": 167,
   "id": "25d1b38e-8696-4096-95f4-2b2a136b4ec3",
   "metadata": {},
   "outputs": [
    {
     "name": "stdout",
     "output_type": "stream",
     "text": [
      "   *   \n",
      "  ***  \n",
      " ***** \n",
      "*******\n"
     ]
    }
   ],
   "source": [
    "for i in range(1,5):\n",
    "    for j in range(1,8):\n",
    "        if j>=5-i and j<=3+i:\n",
    "                print(\"*\",end='')\n",
    "        else:\n",
    "            print(\" \",end='')\n",
    "    print() "
   ]
  },
  {
   "cell_type": "code",
   "execution_count": 203,
   "id": "a6353de5-8923-44f9-a51b-d2b36bf81d7a",
   "metadata": {},
   "outputs": [
    {
     "name": "stdout",
     "output_type": "stream",
     "text": [
      "*******\n",
      " ***** \n",
      "  ***  \n",
      "   *   \n"
     ]
    }
   ],
   "source": [
    "for i in range(1,5):\n",
    "    for j in range(1,8):\n",
    "        if j>=i and j<=8-i:\n",
    "                print(\"*\",end='')\n",
    "        else:\n",
    "            print(\" \",end='')\n",
    "    print() "
   ]
  },
  {
   "cell_type": "code",
   "execution_count": 211,
   "id": "e9a9fb8e-469c-477e-b3e1-af58ea6c8208",
   "metadata": {},
   "outputs": [
    {
     "name": "stdout",
     "output_type": "stream",
     "text": [
      "****\n",
      "*** \n",
      "**  \n",
      "*   \n",
      "****\n",
      " ***\n",
      "  **\n",
      "   *\n"
     ]
    }
   ],
   "source": [
    "for i in range(1,5,):\n",
    "    for j in range(1,5):\n",
    "        if j<=5-i:\n",
    "                print(\"*\",end='')\n",
    "        else:\n",
    "            print(\" \",end='')\n",
    "    print() \n",
    "for i in range(1,5):\n",
    "    for j in range(1,5):\n",
    "        if j>=i:\n",
    "                print(\"*\",end='')\n",
    "        else:\n",
    "            print(\" \",end='')\n",
    "    print() "
   ]
  },
  {
   "cell_type": "code",
   "execution_count": 227,
   "id": "72d75e2f-a92a-4465-ac9f-7d34de5b3cca",
   "metadata": {},
   "outputs": [
    {
     "name": "stdout",
     "output_type": "stream",
     "text": [
      "*******\n",
      "*** ***\n",
      "**   **\n",
      "*     *\n"
     ]
    }
   ],
   "source": [
    "for i in range(1,5):\n",
    "    for j in range(1,8):\n",
    "        if j<=5-i or j>=3+i:\n",
    "            print(\"*\",end='')\n",
    "        else:\n",
    "            print(\" \",end='')\n",
    "    print()"
   ]
  },
  {
   "cell_type": "code",
   "execution_count": 231,
   "id": "c744a681-c63f-410c-8be5-a0c1ea032f29",
   "metadata": {},
   "outputs": [
    {
     "name": "stdout",
     "output_type": "stream",
     "text": [
      "1   \n",
      "12  \n",
      "123 \n",
      "1234\n"
     ]
    }
   ],
   "source": [
    "for i in range(1,5):\n",
    "    for j in range(1,5):\n",
    "        if j<=i:\n",
    "            print(j,end='')\n",
    "        else:\n",
    "            print(\" \",end='')\n",
    "    print() "
   ]
  },
  {
   "cell_type": "code",
   "execution_count": 233,
   "id": "e5539f77-8e88-4f71-844c-9ac832634ecd",
   "metadata": {},
   "outputs": [
    {
     "name": "stdout",
     "output_type": "stream",
     "text": [
      "1   \n",
      "22  \n",
      "333 \n",
      "4444\n"
     ]
    }
   ],
   "source": [
    "for i in range(1,5):\n",
    "    for j in range(1,5):\n",
    "        if j<=i:\n",
    "            print(i,end='')\n",
    "        else:\n",
    "            print(\" \",end='')\n",
    "    print() "
   ]
  },
  {
   "cell_type": "code",
   "execution_count": null,
   "id": "25acbec3-04d3-4706-9fda-f558a974428a",
   "metadata": {},
   "outputs": [],
   "source": []
  }
 ],
 "metadata": {
  "kernelspec": {
   "display_name": "Python 3 (ipykernel)",
   "language": "python",
   "name": "python3"
  },
  "language_info": {
   "codemirror_mode": {
    "name": "ipython",
    "version": 3
   },
   "file_extension": ".py",
   "mimetype": "text/x-python",
   "name": "python",
   "nbconvert_exporter": "python",
   "pygments_lexer": "ipython3",
   "version": "3.12.7"
  }
 },
 "nbformat": 4,
 "nbformat_minor": 5
}
