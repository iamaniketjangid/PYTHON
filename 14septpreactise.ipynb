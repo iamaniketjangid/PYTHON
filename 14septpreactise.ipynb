{
 "cells": [
  {
   "cell_type": "code",
   "execution_count": null,
   "id": "7d0d72e7-e5e8-4b6e-ba35-d69eaeee0888",
   "metadata": {},
   "outputs": [],
   "source": [
    "#1\n",
    "print('helo world')"
   ]
  },
  {
   "cell_type": "code",
   "execution_count": null,
   "id": "0c4ded27-c49a-46ac-bdd1-7e44607f2325",
   "metadata": {},
   "outputs": [],
   "source": [
    "#2\n",
    "x=input('enter the number')\n",
    "print(x)\n",
    "print(type(x))"
   ]
  },
  {
   "cell_type": "code",
   "execution_count": null,
   "id": "6c8089a1-d5e4-428e-89c2-73314b537a07",
   "metadata": {},
   "outputs": [],
   "source": [
    "#3\n",
    "x=input('enter first number')\n",
    "y=input('enter the second number')\n",
    "print(int (x)+int(y))\n",
    "print(int(x) -int(y))\n",
    "print(int(x)*int(y))\n",
    "print(int(x)/int(y))"
   ]
  },
  {
   "cell_type": "code",
   "execution_count": null,
   "id": "bcda3811-2ffa-4825-aa81-542514565643",
   "metadata": {},
   "outputs": [],
   "source": [
    "#4\n",
    "x=5\n",
    "y=7\n",
    "z=x\n",
    "x=y\n",
    "y=z\n",
    "print('x is ',x)\n",
    "print('y is',y)"
   ]
  },
  {
   "cell_type": "code",
   "execution_count": null,
   "id": "997fefd1-8b01-448a-bbd6-cd2938aaca95",
   "metadata": {},
   "outputs": [],
   "source": [
    "#5\n",
    "x=10\n",
    "y=20\n",
    "x=x+y\n",
    "y=x-y\n",
    "x=x-y\n",
    "print('x is ',x)\n",
    "print('y is',y)"
   ]
  },
  {
   "cell_type": "code",
   "execution_count": null,
   "id": "164a7547-be67-4d5b-b377-0a2427535b96",
   "metadata": {},
   "outputs": [],
   "source": [
    "#6. Create a Python program to find the square root of a number.\n",
    "\n",
    "x = float(input(\"enter the number\"))\n",
    "root = x**0.5\n",
    "print(root)"
   ]
  },
  {
   "cell_type": "code",
   "execution_count": null,
   "id": "61624bc1-0f45-4b55-9a23-8714b12b4e31",
   "metadata": {},
   "outputs": [],
   "source": [
    "#7. Write a Python program to calculate the area of a circle.\n",
    "r=float(input('enter the number'))\n",
    "pi=3.14\n",
    "print(\"area of circile\",pi*r*r)"
   ]
  },
  {
   "cell_type": "code",
   "execution_count": null,
   "id": "d60b4a61-8b2c-49f5-9565-3f0a7a233eb0",
   "metadata": {},
   "outputs": [],
   "source": [
    "#8Create a Python program to convert kilometers to miles\n",
    "k=float(input('enter the km'))\n",
    "m=1.609344\n",
    "print('convert kilometer to miles',k/m)"
   ]
  },
  {
   "cell_type": "code",
   "execution_count": null,
   "id": "6e2fb44d-d413-49c6-8918-55bb671aab4e",
   "metadata": {},
   "outputs": [],
   "source": [
    "#9. Write a program to check whether a number is positive, negative, or zero.\n",
    "a=float(input('enter the a number'))\n",
    "b=float(input('enter the  b number'))\n",
    "if a>b:\n",
    "  print('positive number')\n",
    "elif b>a:\n",
    "  print('negative number')\n",
    "else:\n",
    "    print('zero')\n"
   ]
  },
  {
   "cell_type": "code",
   "execution_count": null,
   "id": "8da84c7a-6b06-40b5-8b9c-7fddf5e0816e",
   "metadata": {},
   "outputs": [],
   "source": [
    "#10. Write a program to check whether a number is even or odd.\n",
    "\n",
    "a=float(input('enter the number'))\n",
    "if a%2==0:\n",
    "  print(\"even\")\n",
    "else:\n",
    "  print(\"odd\")"
   ]
  },
  {
   "cell_type": "code",
   "execution_count": null,
   "id": "f7aa0be0-3e52-48bc-bcf1-ec047569692a",
   "metadata": {},
   "outputs": [],
   "source": [
    "#11. Write a program to find the largest of three numbers.\n",
    "a=float(input('enter a the number'))\n",
    "b=float(input('enter  b the number'))\n",
    "c=float(input('enter c the number'))\n",
    "if a>b and a>c:\n",
    "  print(\"a is large number\")\n",
    "elif b>a and b>c:\n",
    "  print('b is large')\n",
    "elif c>a and c>b:\n",
    "  print('c is large')\n",
    "\n",
    "\n"
   ]
  },
  {
   "cell_type": "code",
   "execution_count": 13,
   "id": "fba6eb52-5166-4e2e-a74c-fc6981c89b6d",
   "metadata": {},
   "outputs": [
    {
     "name": "stdout",
     "output_type": "stream",
     "text": [
      "the ASCII value of % is 37\n"
     ]
    }
   ],
   "source": [
    "#12. Write a Python program to find the ASCII value of a character.\n",
    "char = \"%\"\n",
    "print(\"the ASCII value of\",char,\"is\",ord(char))"
   ]
  },
  {
   "cell_type": "code",
   "execution_count": null,
   "id": "a7cde2b0-ec8d-491d-af76-1db3394c5f30",
   "metadata": {},
   "outputs": [],
   "source": []
  },
  {
   "cell_type": "code",
   "execution_count": null,
   "id": "c6f8ba4b-d214-41da-8b69-0ca21fd168ce",
   "metadata": {},
   "outputs": [],
   "source": []
  }
 ],
 "metadata": {
  "kernelspec": {
   "display_name": "Python 3 (ipykernel)",
   "language": "python",
   "name": "python3"
  },
  "language_info": {
   "codemirror_mode": {
    "name": "ipython",
    "version": 3
   },
   "file_extension": ".py",
   "mimetype": "text/x-python",
   "name": "python",
   "nbconvert_exporter": "python",
   "pygments_lexer": "ipython3",
   "version": "3.12.4"
  }
 },
 "nbformat": 4,
 "nbformat_minor": 5
}
