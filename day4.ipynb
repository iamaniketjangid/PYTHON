{
 "cells": [
  {
   "cell_type": "code",
   "execution_count": 3,
   "id": "198871f4-2526-4415-ab55-75d65770095d",
   "metadata": {},
   "outputs": [
    {
     "name": "stdout",
     "output_type": "stream",
     "text": [
      "<class 'int'>\n",
      "140720048192216\n"
     ]
    }
   ],
   "source": [
    "a=10\n",
    "print(type(a))\n",
    "print(id(a))"
   ]
  },
  {
   "cell_type": "code",
   "execution_count": 4,
   "id": "699738cf-1b5b-49f3-945d-4e0447d7aa33",
   "metadata": {},
   "outputs": [
    {
     "name": "stdout",
     "output_type": "stream",
     "text": [
      "140720048192216\n",
      "140720048192536 a 140720048192216\n"
     ]
    }
   ],
   "source": [
    "num=a\n",
    "print(id(num))\n",
    "num=20\n",
    "print(id(num),'a',id(a))"
   ]
  },
  {
   "cell_type": "code",
   "execution_count": 13,
   "id": "ef87a426-2003-400e-8b20-50094eae3302",
   "metadata": {},
   "outputs": [
    {
     "name": "stdout",
     "output_type": "stream",
     "text": [
      "1 - 11 - 21 - 31 - 4-------\n",
      "2 - 12 - 22 - 32 - 4-------\n",
      "3 - 13 - 23 - 33 - 4-------\n",
      "4 - 14 - 24 - 34 - 4-------\n"
     ]
    }
   ],
   "source": [
    "for row in range(1,5):\n",
    "    for col in range(1,5):\n",
    "        print(row,'-',col,end='')\n",
    "    print(\"-------\")"
   ]
  },
  {
   "cell_type": "code",
   "execution_count": 16,
   "id": "4982af6c-7b4f-4165-b4ae-95d022d25840",
   "metadata": {},
   "outputs": [
    {
     "name": "stdout",
     "output_type": "stream",
     "text": [
      "****\n",
      "****\n",
      "****\n",
      "****\n"
     ]
    }
   ],
   "source": [
    "for row in range(1,5):\n",
    "    for col in range(1,5):\n",
    "        print('*',end='')\n",
    "    print(\"\")"
   ]
  },
  {
   "cell_type": "code",
   "execution_count": null,
   "id": "cc533442-61f2-426b-b0b9-f45d12c177a8",
   "metadata": {},
   "outputs": [],
   "source": []
  },
  {
   "cell_type": "code",
   "execution_count": 23,
   "id": "1d8f7f86-6a14-4893-a68c-bff726885487",
   "metadata": {},
   "outputs": [
    {
     "name": "stdout",
     "output_type": "stream",
     "text": [
      "1\n",
      "11\n",
      "111\n",
      "1111\n"
     ]
    }
   ],
   "source": [
    "for row in range(1,5):\n",
    "    for col in range(1,row+1):\n",
    "        print(i,end='')\n",
    "    print(\"\")"
   ]
  },
  {
   "cell_type": "code",
   "execution_count": 39,
   "id": "60646fb9-3511-43bd-9af5-e4084d3ca834",
   "metadata": {},
   "outputs": [
    {
     "name": "stdout",
     "output_type": "stream",
     "text": [
      "1\n",
      "23\n",
      "456\n",
      "78910\n"
     ]
    }
   ],
   "source": [
    "i=1\n",
    "for row in range(1,5):\n",
    "    for col in range(1,row+1):\n",
    "        print(i,end='')\n",
    "        i=i+1\n",
    "    print(\"\")"
   ]
  },
  {
   "cell_type": "code",
   "execution_count": 28,
   "id": "268e546e-1bc6-47f5-a68f-dc4e42dbaa20",
   "metadata": {},
   "outputs": [
    {
     "name": "stdout",
     "output_type": "stream",
     "text": [
      "10111213\n",
      "10111213\n",
      "10111213\n",
      "10111213\n",
      "10111213\n"
     ]
    }
   ],
   "source": [
    "for row in range(10,15):\n",
    "    for col in range(10,14):\n",
    "        print(col,end='')\n",
    "    print(\"\")"
   ]
  },
  {
   "cell_type": "code",
   "execution_count": 31,
   "id": "776c0f7b-4eea-41c1-bfce-24287857837d",
   "metadata": {},
   "outputs": [
    {
     "name": "stdout",
     "output_type": "stream",
     "text": [
      "1111\n",
      "2222\n",
      "3333\n",
      "4444\n"
     ]
    }
   ],
   "source": [
    "for row in range(1,5):\n",
    "    for col in range(1,5):\n",
    "        print(row,end='')\n",
    "    print(\"\")"
   ]
  },
  {
   "cell_type": "code",
   "execution_count": 34,
   "id": "c7307133-042a-4e44-a1c7-060a06310186",
   "metadata": {
    "scrolled": true
   },
   "outputs": [
    {
     "name": "stdout",
     "output_type": "stream",
     "text": [
      "5555\n",
      "4444\n",
      "3333\n",
      "2222\n"
     ]
    }
   ],
   "source": [
    "for row in range(5,1,-1):\n",
    "    for col in range(1,5):\n",
    "        print(row,end='')\n",
    "    print(\"\")"
   ]
  },
  {
   "cell_type": "code",
   "execution_count": 51,
   "id": "c3fc28b7-9bd5-4047-8a14-7522c4ca60fe",
   "metadata": {},
   "outputs": [
    {
     "name": "stdout",
     "output_type": "stream",
     "text": [
      "****\n",
      "***\n",
      "**\n",
      "*\n"
     ]
    }
   ],
   "source": [
    "for row in range(1,5):\n",
    "    for col in range(5,row,-1):\n",
    "        print('*',end='')\n",
    "    print()"
   ]
  },
  {
   "cell_type": "code",
   "execution_count": 81,
   "id": "d6b84e88-b9cb-4d6e-a368-ba68ead9debc",
   "metadata": {},
   "outputs": [
    {
     "name": "stdout",
     "output_type": "stream",
     "text": [
      "5555\n",
      "444\n",
      "33\n",
      "2\n"
     ]
    }
   ],
   "source": [
    "for row in range(5,1,-1):\n",
    "    for col in range(1,row):\n",
    "        print(row,end='')\n",
    "\n",
    "    print()"
   ]
  },
  {
   "cell_type": "code",
   "execution_count": 89,
   "id": "ec9d4f11-9bf6-40bb-af88-50e78e27dede",
   "metadata": {},
   "outputs": [
    {
     "name": "stdout",
     "output_type": "stream",
     "text": [
      "12345\n",
      "1234\n",
      "123\n",
      "12\n",
      "1\n"
     ]
    }
   ],
   "source": [
    "for row in range(5,0,-1):\n",
    "    for col in range(1,row+1):\n",
    "        print(col,end='')\n",
    "    print()"
   ]
  },
  {
   "cell_type": "code",
   "execution_count": 102,
   "id": "780e3d31-012e-49c3-ac26-fc9685215f17",
   "metadata": {},
   "outputs": [
    {
     "name": "stdout",
     "output_type": "stream",
     "text": [
      "\n",
      "\n",
      "\n",
      "\n"
     ]
    }
   ],
   "source": [
    "for row in range(5,1,-1):\n",
    "    for col in range(7,10,-1):\n",
    "        print(col,end='')\n",
    "    print()"
   ]
  },
  {
   "cell_type": "code",
   "execution_count": 104,
   "id": "478b29d5-ded6-4dbe-941e-cce9ecd043a1",
   "metadata": {},
   "outputs": [
    {
     "name": "stdout",
     "output_type": "stream",
     "text": [
      "97\n",
      "A\n"
     ]
    }
   ],
   "source": [
    "print(ord('a'))\n",
    "#ord to print ascii value\n",
    "#chr to print charcter based on ascii value\n",
    "print(chr(65))\n"
   ]
  },
  {
   "cell_type": "code",
   "execution_count": 108,
   "id": "bda98fbc-b79d-4f5c-a7c6-09796b6ce7d5",
   "metadata": {},
   "outputs": [
    {
     "name": "stdout",
     "output_type": "stream",
     "text": [
      "A B C D E \n",
      "A B C D \n",
      "A B C \n",
      "A B \n",
      "A \n"
     ]
    }
   ],
   "source": [
    "n=5\n",
    "for row in range(1,n+1):\n",
    "    num=65\n",
    "    for x in range(row,n+1):\n",
    "        print(chr(num),end=\" \")\n",
    "        num=num+1\n",
    "    print()"
   ]
  },
  {
   "cell_type": "code",
   "execution_count": 119,
   "id": "472e6d74-7efb-42e4-9ad8-c1d7c21e172f",
   "metadata": {},
   "outputs": [
    {
     "name": "stdout",
     "output_type": "stream",
     "text": [
      "20 21 22 23 \n",
      "24 25 26 \n",
      "27 28 \n",
      "29 \n",
      "\n",
      "\n",
      "\n",
      "\n",
      "\n",
      "\n",
      "\n",
      "\n",
      "\n",
      "\n",
      "\n",
      "\n",
      "\n",
      "\n",
      "\n",
      "\n",
      "\n",
      "\n",
      "\n"
     ]
    }
   ],
   "source": [
    "i=20\n",
    "for row in range(23,0,-1):\n",
    "    for col in range(20,row+1):\n",
    "        print(i,end=' ')\n",
    "        i=i+1\n",
    "    print()\n"
   ]
  },
  {
   "cell_type": "code",
   "execution_count": 127,
   "id": "4229b873-66b8-402a-a43e-78b6a2c83c84",
   "metadata": {},
   "outputs": [],
   "source": [
    "i=1\n",
    "for row in range(1,5):\n",
    "    for col in range(1,row+1):\n",
    "        if i%2==0:\n",
    "            print(i,end='')\n",
    "            i=i+1\n",
    "            print()"
   ]
  },
  {
   "cell_type": "code",
   "execution_count": 132,
   "id": "8cfaf663-577d-4d33-bec6-105042eedf9a",
   "metadata": {},
   "outputs": [
    {
     "name": "stdout",
     "output_type": "stream",
     "text": [
      "*\n",
      "**\n",
      "***\n",
      "****\n",
      "*****\n",
      "****\n",
      "***\n",
      "**\n",
      "*\n"
     ]
    }
   ],
   "source": [
    "for row in range(1,5):\n",
    "    for col in range(1,row+1):\n",
    "        print(\"*\",end=\"\")\n",
    "    print()\n",
    "for row in range(5,0,-1):\n",
    "    for col in range(1,row+1):\n",
    "        print(\"*\",end=\"\")\n",
    "    print()"
   ]
  },
  {
   "cell_type": "code",
   "execution_count": 137,
   "id": "876480e0-746c-496a-a047-0ce8e1a4649f",
   "metadata": {},
   "outputs": [
    {
     "name": "stdout",
     "output_type": "stream",
     "text": [
      "*****\n",
      "****\n",
      "***\n",
      "**\n",
      "*\n",
      "*\n",
      "**\n",
      "***\n",
      "****\n"
     ]
    }
   ],
   "source": [
    "for row in range(5,0,-1):\n",
    "    for col in range(1,row+1):\n",
    "        print(\"*\",end=\"\")\n",
    "    print()\n",
    "for row in range(1,5):\n",
    "    for col in range(1,row+1):\n",
    "        print(\"*\",end=\"\")\n",
    "    print()"
   ]
  },
  {
   "cell_type": "code",
   "execution_count": null,
   "id": "b4e3624a-ef25-4c47-b166-99963b19f94e",
   "metadata": {},
   "outputs": [],
   "source": []
  }
 ],
 "metadata": {
  "kernelspec": {
   "display_name": "Python 3 (ipykernel)",
   "language": "python",
   "name": "python3"
  },
  "language_info": {
   "codemirror_mode": {
    "name": "ipython",
    "version": 3
   },
   "file_extension": ".py",
   "mimetype": "text/x-python",
   "name": "python",
   "nbconvert_exporter": "python",
   "pygments_lexer": "ipython3",
   "version": "3.12.4"
  }
 },
 "nbformat": 4,
 "nbformat_minor": 5
}
