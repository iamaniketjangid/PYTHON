{
 "cells": [
  {
   "cell_type": "code",
   "execution_count": 2,
   "id": "12502400-a9d3-4551-b99d-89b9b4f9279d",
   "metadata": {},
   "outputs": [
    {
     "name": "stdout",
     "output_type": "stream",
     "text": [
      "my name is aniket\n"
     ]
    }
   ],
   "source": [
    "name = \"aniket\"\n",
    "print(f\"my name is {name}\")"
   ]
  },
  {
   "cell_type": "code",
   "execution_count": 3,
   "id": "0d8d5a68-cdb9-48c6-b8b0-64bc3e87d1ea",
   "metadata": {},
   "outputs": [
    {
     "name": "stdout",
     "output_type": "stream",
     "text": [
      "hey aman my name isaniket\n"
     ]
    }
   ],
   "source": [
    "print(\"hey {} my name is{}\".format(\"aman\",\"aniket\"))\n"
   ]
  },
  {
   "cell_type": "code",
   "execution_count": 5,
   "id": "f4b4c699-11eb-46b4-a796-4e76af6d5dca",
   "metadata": {},
   "outputs": [
    {
     "name": "stdout",
     "output_type": "stream",
     "text": [
      "hey aniket my name is aman\n"
     ]
    }
   ],
   "source": [
    "print(\"hey {1} my name is {0}\".format(\"aman\",\"aniket\"))\n"
   ]
  },
  {
   "cell_type": "code",
   "execution_count": 6,
   "id": "84333aa4-717d-4ac9-a1c1-5f050a400f95",
   "metadata": {},
   "outputs": [
    {
     "name": "stdout",
     "output_type": "stream",
     "text": [
      "b35 basant bahar\n",
      "gopalpura\n"
     ]
    }
   ],
   "source": [
    "address=\"\"\"b35 basant bahar\n",
    "gopalpura\"\"\"\n",
    "print(address)"
   ]
  },
  {
   "cell_type": "code",
   "execution_count": 9,
   "id": "ce4934ff-0e2f-4769-a200-67fd82b08c0e",
   "metadata": {},
   "outputs": [
    {
     "name": "stdout",
     "output_type": "stream",
     "text": [
      "3.3333333333333335\n"
     ]
    }
   ],
   "source": [
    "y = 10\n",
    "y/=3\n",
    "print(y)"
   ]
  },
  {
   "cell_type": "code",
   "execution_count": 11,
   "id": "eda1303f-6f6a-450e-afa3-1383d833a5e5",
   "metadata": {},
   "outputs": [
    {
     "name": "stdout",
     "output_type": "stream",
     "text": [
      "40\n"
     ]
    }
   ],
   "source": [
    "x = 20\n",
    "x += 20\n",
    "print(x)"
   ]
  },
  {
   "cell_type": "code",
   "execution_count": 13,
   "id": "2affd87c-fc11-4bb7-930d-6a45b835a9d2",
   "metadata": {},
   "outputs": [
    {
     "data": {
      "text/plain": [
       "False"
      ]
     },
     "execution_count": 13,
     "metadata": {},
     "output_type": "execute_result"
    }
   ],
   "source": [
    "# membership operator (iterable)\n",
    "\"aj\" in \"japan\""
   ]
  },
  {
   "cell_type": "code",
   "execution_count": 14,
   "id": "78d1ba95-46ac-4962-b6de-4cab6fbd3939",
   "metadata": {},
   "outputs": [
    {
     "data": {
      "text/plain": [
       "True"
      ]
     },
     "execution_count": 14,
     "metadata": {},
     "output_type": "execute_result"
    }
   ],
   "source": [
    "\"aj\"  not in \"japan\""
   ]
  },
  {
   "cell_type": "code",
   "execution_count": 15,
   "id": "d1c27dba-cfea-45e4-86e3-000487f95d07",
   "metadata": {},
   "outputs": [
    {
     "ename": "TypeError",
     "evalue": "argument of type 'int' is not iterable",
     "output_type": "error",
     "traceback": [
      "\u001b[1;31m---------------------------------------------------------------------------\u001b[0m",
      "\u001b[1;31mTypeError\u001b[0m                                 Traceback (most recent call last)",
      "Cell \u001b[1;32mIn[15], line 2\u001b[0m\n\u001b[0;32m      1\u001b[0m \u001b[38;5;66;03m# intiger are not iterable\u001b[39;00m\n\u001b[1;32m----> 2\u001b[0m \u001b[38;5;241m12\u001b[39m \u001b[38;5;129;01min\u001b[39;00m  \u001b[38;5;241m123\u001b[39m\n",
      "\u001b[1;31mTypeError\u001b[0m: argument of type 'int' is not iterable"
     ]
    }
   ],
   "source": [
    "# intiger are not iterable\n",
    "#12 in  123 X"
   ]
  },
  {
   "cell_type": "code",
   "execution_count": 22,
   "id": "022bf97a-3c3c-4553-83e1-7ca3ff71f809",
   "metadata": {},
   "outputs": [
    {
     "name": "stdout",
     "output_type": "stream",
     "text": [
      "2573497066736\n"
     ]
    }
   ],
   "source": [
    "x = 500\n",
    "print(id(x))"
   ]
  },
  {
   "cell_type": "code",
   "execution_count": 23,
   "id": "7fafcf27-414e-4be6-8dac-3f1b47b0b81d",
   "metadata": {},
   "outputs": [
    {
     "name": "stdout",
     "output_type": "stream",
     "text": [
      "2573497067632\n"
     ]
    }
   ],
   "source": [
    "y=500\n",
    "print(id(y))"
   ]
  },
  {
   "cell_type": "code",
   "execution_count": 27,
   "id": "4476abc8-54dc-473c-8012-3011ea0d7d61",
   "metadata": {},
   "outputs": [
    {
     "name": "stdout",
     "output_type": "stream",
     "text": [
      "young\n"
     ]
    }
   ],
   "source": [
    "age=25\n",
    "if(age==18):\n",
    "   print(\"adult\")\n",
    "elif(age==25):\n",
    "    print(\"young\")\n",
    "else:\n",
    "    print(\"child\")"
   ]
  },
  {
   "cell_type": "code",
   "execution_count": null,
   "id": "7651551a-60fd-4d25-a938-d2b1bbb125a7",
   "metadata": {},
   "outputs": [],
   "source": []
  },
  {
   "cell_type": "code",
   "execution_count": 35,
   "id": "eead6d76-94f1-4d2a-a134-e877902b2726",
   "metadata": {},
   "outputs": [
    {
     "name": "stdin",
     "output_type": "stream",
     "text": [
      "enter the number 7\n"
     ]
    },
    {
     "name": "stdout",
     "output_type": "stream",
     "text": [
      "integer\n"
     ]
    }
   ],
   "source": [
    "n = int(input(\"enter the number\"))\n",
    "if n>0 or n<0:\n",
    "   print(\"integer\")\n",
    "elif n==0:\n",
    "   print(\"neutral\")"
   ]
  },
  {
   "cell_type": "code",
   "execution_count": 38,
   "id": "e6c450df-2c2d-47bf-9a3f-bcad1828e2cf",
   "metadata": {},
   "outputs": [
    {
     "name": "stdin",
     "output_type": "stream",
     "text": [
      "enter the number 6\n"
     ]
    },
    {
     "name": "stdout",
     "output_type": "stream",
     "text": [
      "+ve\n"
     ]
    }
   ],
   "source": [
    "n = int(input(\"enter the number\"))\n",
    "if n>0:\n",
    "    print(\"+ve\")\n",
    "elif n<0:\n",
    "    print(\"-ve\")\n",
    "elif n==0:\n",
    "    print(\"neutral\")"
   ]
  },
  {
   "cell_type": "code",
   "execution_count": 39,
   "id": "097f6e9d-40ef-4574-b5c9-e1cbbdd7bfe4",
   "metadata": {},
   "outputs": [
    {
     "name": "stdin",
     "output_type": "stream",
     "text": [
      "enter the number 45\n",
      "enter the number 34\n"
     ]
    },
    {
     "name": "stdout",
     "output_type": "stream",
     "text": [
      "n1 is max\n"
     ]
    }
   ],
   "source": [
    "n = int(input(\"enter the number\"))\n",
    "n1 = int(input(\"enter the number\"))\n",
    "if n>n1:\n",
    "    print(\"n1 is max\")\n",
    "elif n1<n:\n",
    "    print('n is max')"
   ]
  },
  {
   "cell_type": "code",
   "execution_count": 43,
   "id": "8a91e4d6-7ebb-4abd-962a-4496be51913a",
   "metadata": {},
   "outputs": [
    {
     "name": "stdin",
     "output_type": "stream",
     "text": [
      "enter the n number 2\n",
      "enter the n1 number 32\n",
      "enter the n2 number 4\n"
     ]
    },
    {
     "name": "stdout",
     "output_type": "stream",
     "text": [
      "n is min\n"
     ]
    }
   ],
   "source": [
    "n = int(input(\"enter the n number\"))\n",
    "n1 = int(input(\"enter the n1 number\"))\n",
    "n2 = int(input(\"enter the n2 number\"))\n",
    "if n<n1 and n<n2:\n",
    "    print(\"n is min\")\n",
    "elif n1<n and n1<n2:\n",
    "    print(\"n1 is min\")\n",
    "elif n3<n and n3<n:\n",
    "    print(\"n3\")"
   ]
  },
  {
   "cell_type": "code",
   "execution_count": 45,
   "id": "acf62980-5f7d-4c82-a6fe-5f5bf548c339",
   "metadata": {},
   "outputs": [
    {
     "name": "stdin",
     "output_type": "stream",
     "text": [
      "enter the n number 5\n"
     ]
    },
    {
     "name": "stdout",
     "output_type": "stream",
     "text": [
      "odd\n"
     ]
    }
   ],
   "source": [
    "n = int(input(\"enter the n number\"))\n",
    "if n%2==0:\n",
    "    print(\"even num\")\n",
    "else:\n",
    "    print(\"odd\")"
   ]
  },
  {
   "cell_type": "code",
   "execution_count": 53,
   "id": "235bb2cb-2271-4a71-b975-e976604a6310",
   "metadata": {},
   "outputs": [
    {
     "name": "stdin",
     "output_type": "stream",
     "text": [
      "enter the n number 45\n"
     ]
    },
    {
     "name": "stdout",
     "output_type": "stream",
     "text": [
      "senior\n"
     ]
    }
   ],
   "source": [
    "age = int(input(\"enter the n number\"))\n",
    "if age >= 18 and age <= 26:\n",
    "    print(\"young\")\n",
    "elif age >= 26 and age <= 65:\n",
    "    print(\"senior\")"
   ]
  },
  {
   "cell_type": "code",
   "execution_count": null,
   "id": "5d156984-9532-4959-8773-eb3352b30e5a",
   "metadata": {},
   "outputs": [],
   "source": []
  }
 ],
 "metadata": {
  "kernelspec": {
   "display_name": "Python 3 (ipykernel)",
   "language": "python",
   "name": "python3"
  },
  "language_info": {
   "codemirror_mode": {
    "name": "ipython",
    "version": 3
   },
   "file_extension": ".py",
   "mimetype": "text/x-python",
   "name": "python",
   "nbconvert_exporter": "python",
   "pygments_lexer": "ipython3",
   "version": "3.12.4"
  }
 },
 "nbformat": 4,
 "nbformat_minor": 5
}
